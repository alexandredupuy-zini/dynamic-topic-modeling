{
 "cells": [
  {
   "cell_type": "code",
   "execution_count": 1,
   "metadata": {},
   "outputs": [
    {
     "name": "stdout",
     "output_type": "stream",
     "text": [
      "2020-02-27 13:25:24,511 - root - INFO - ** Kedro project Dynamic Topic Modeling\n",
      "2020-02-27 13:25:24,512 - root - INFO - Defined global variable `context` and `catalog`\n"
     ]
    }
   ],
   "source": [
    "%reload_kedro"
   ]
  },
  {
   "cell_type": "markdown",
   "metadata": {},
   "source": [
    "In this notebook, we introduce topic modeling methods through the [UN General Debates Dataset from Kaggle](https://www.kaggle.com/unitednations/un-general-debates), using [gensim](https://radimrehurek.com/gensim/)."
   ]
  },
  {
   "cell_type": "code",
   "execution_count": 2,
   "metadata": {},
   "outputs": [],
   "source": [
    "import pandas as pd\n",
    "from tqdm import tqdm\n",
    "import pickle\n",
    "import numpy as np\n",
    "import matplotlib.pyplot as plt\n",
    "from gensim.models import CoherenceModel, LdaModel\n",
    "from gensim.corpora import Dictionary, MmCorpus\n",
    "\n",
    "%matplotlib inline"
   ]
  },
  {
   "cell_type": "code",
   "execution_count": 3,
   "metadata": {},
   "outputs": [],
   "source": [
    "import logging\n",
    "logger = logging.getLogger()\n",
    "logger.setLevel(logging.CRITICAL)"
   ]
  },
  {
   "cell_type": "code",
   "execution_count": 22,
   "metadata": {},
   "outputs": [],
   "source": [
    "pd.set_option('display.max_colwidth', 10000)\n",
    "\n",
    "def most_relevant_docs(topic_number, lda_model, n, corpus):\n",
    "    my_ids = np.linspace(start=1, stop=len(docs), num=len(docs))\n",
    "    tops = sorted(zip(my_ids, corpus), reverse=True, key=lambda x: abs(dict(x[1]).get(topic_number, 0.0)))[:n]\n",
    "    return([int(x[0]) for x in tops])\n",
    "\n",
    "def topic_per(topic_number, lda_model, thres, corpus):\n",
    "    cnt = 0\n",
    "    for x in range(len(corpus)):\n",
    "        for topic, pr in corpus[x]:\n",
    "            if topic == topic_number and pr > thres:\n",
    "                cnt+=1\n",
    "    return(\"{0:.0%}\".format(cnt / len(corpus)))\n",
    "\n",
    "def topic_display(lda_model, num_docs, thres, corpus):\n",
    "    topics = lda_model.show_topics(formatted=False, num_topics=20)\n",
    "    df = pd.DataFrame([[idx, [x for x,y in words], \"{0:.0%}\".format(lda_model.alpha[idx]), most_relevant_docs(idx, lda_model, num_docs, corpus), topic_per(idx, lda_model, thres, corpus)] for idx,words in topics]).sort_index().drop(columns=[0])\n",
    "    df.columns = ['Most relevant words', 'Prior', 'Most relevant docs', 'docs with probability > thres']\n",
    "    return(df)"
   ]
  },
  {
   "cell_type": "markdown",
   "metadata": {},
   "source": [
    "# Data"
   ]
  },
  {
   "cell_type": "code",
   "execution_count": 4,
   "metadata": {},
   "outputs": [
    {
     "name": "stdout",
     "output_type": "stream",
     "text": [
      "(362188, 4)\n"
     ]
    },
    {
     "data": {
      "text/html": [
       "<div>\n",
       "<style scoped>\n",
       "    .dataframe tbody tr th:only-of-type {\n",
       "        vertical-align: middle;\n",
       "    }\n",
       "\n",
       "    .dataframe tbody tr th {\n",
       "        vertical-align: top;\n",
       "    }\n",
       "\n",
       "    .dataframe thead th {\n",
       "        text-align: right;\n",
       "    }\n",
       "</style>\n",
       "<table border=\"1\" class=\"dataframe\">\n",
       "  <thead>\n",
       "    <tr style=\"text-align: right;\">\n",
       "      <th></th>\n",
       "      <th>review</th>\n",
       "      <th>stars</th>\n",
       "      <th>version</th>\n",
       "      <th>date</th>\n",
       "    </tr>\n",
       "  </thead>\n",
       "  <tbody>\n",
       "    <tr>\n",
       "      <th>0</th>\n",
       "      <td>Can't log in, even uninstalled it and tried to...</td>\n",
       "      <td>1.0</td>\n",
       "      <td>11.8.1</td>\n",
       "      <td>2020-02-14T11:06:04</td>\n",
       "    </tr>\n",
       "    <tr>\n",
       "      <th>1</th>\n",
       "      <td>After long work, it stopped starting and began...</td>\n",
       "      <td>1.0</td>\n",
       "      <td>11.8.1</td>\n",
       "      <td>2020-02-14T10:58:04</td>\n",
       "    </tr>\n",
       "    <tr>\n",
       "      <th>2</th>\n",
       "      <td>Tinder is full of profiles offering SEX SERVIC...</td>\n",
       "      <td>2.0</td>\n",
       "      <td>11.8.1</td>\n",
       "      <td>2020-02-14T10:42:06</td>\n",
       "    </tr>\n",
       "    <tr>\n",
       "      <th>3</th>\n",
       "      <td>This was my experience with tinder. Even if so...</td>\n",
       "      <td>1.0</td>\n",
       "      <td>11.8.1</td>\n",
       "      <td>2020-02-14T10:23:38</td>\n",
       "    </tr>\n",
       "    <tr>\n",
       "      <th>4</th>\n",
       "      <td>trash. keep getting banned for no reason. read...</td>\n",
       "      <td>1.0</td>\n",
       "      <td>NaN</td>\n",
       "      <td>2020-02-14T10:12:01</td>\n",
       "    </tr>\n",
       "  </tbody>\n",
       "</table>\n",
       "</div>"
      ],
      "text/plain": [
       "                                              review  stars version  \\\n",
       "0  Can't log in, even uninstalled it and tried to...    1.0  11.8.1   \n",
       "1  After long work, it stopped starting and began...    1.0  11.8.1   \n",
       "2  Tinder is full of profiles offering SEX SERVIC...    2.0  11.8.1   \n",
       "3  This was my experience with tinder. Even if so...    1.0  11.8.1   \n",
       "4  trash. keep getting banned for no reason. read...    1.0     NaN   \n",
       "\n",
       "                  date  \n",
       "0  2020-02-14T11:06:04  \n",
       "1  2020-02-14T10:58:04  \n",
       "2  2020-02-14T10:42:06  \n",
       "3  2020-02-14T10:23:38  \n",
       "4  2020-02-14T10:12:01  "
      ]
     },
     "execution_count": 4,
     "metadata": {},
     "output_type": "execute_result"
    }
   ],
   "source": [
    "docs=pd.read_csv(\"../reviews_tinder_cleaned.csv\")\n",
    "print(docs.shape)\n",
    "docs.head()"
   ]
  },
  {
   "cell_type": "code",
   "execution_count": 5,
   "metadata": {},
   "outputs": [],
   "source": [
    "docs[\"date\"] = docs[\"date\"].apply(lambda x: x[:7])"
   ]
  },
  {
   "cell_type": "code",
   "execution_count": 6,
   "metadata": {},
   "outputs": [],
   "source": [
    "docs = docs.reset_index().drop(columns=['stars', 'version', 'index'])\n",
    "docs = docs.rename(columns={\"review\": \"text\", \"date\": \"timestamp\"})"
   ]
  },
  {
   "cell_type": "markdown",
   "metadata": {},
   "source": [
    "# Preprocessing"
   ]
  },
  {
   "cell_type": "code",
   "execution_count": 7,
   "metadata": {},
   "outputs": [],
   "source": [
    "from src.dynamic_topic_modeling.pipelines.data_processing.preprocess import preprocess_dataset"
   ]
  },
  {
   "cell_type": "code",
   "execution_count": 8,
   "metadata": {},
   "outputs": [],
   "source": [
    "extreme_no_below=20\n",
    "extreme_no_above=0.7\n",
    "enable_bigram=True\n",
    "min_bigram_count=20\n",
    "basic_word_analysis=True"
   ]
  },
  {
   "cell_type": "code",
   "execution_count": null,
   "metadata": {
    "scrolled": true
   },
   "outputs": [],
   "source": [
    "res = preprocess_dataset(docs, extreme_no_below, extreme_no_above,\n",
    "                                                               enable_bigram, min_bigram_count, basic_word_analysis)"
   ]
  },
  {
   "cell_type": "markdown",
   "metadata": {},
   "source": [
    "# Training"
   ]
  },
  {
   "cell_type": "code",
   "execution_count": 10,
   "metadata": {},
   "outputs": [
    {
     "name": "stdout",
     "output_type": "stream",
     "text": [
      "Number of unique tokens: 6841\n",
      "Number of documents: 362188\n"
     ]
    }
   ],
   "source": [
    "print('Number of unique tokens: %d' % len(res['dictionary']))\n",
    "print('Number of documents: %d' % len(res['corpus']))"
   ]
  },
  {
   "cell_type": "code",
   "execution_count": 38,
   "metadata": {
    "scrolled": false
   },
   "outputs": [
    {
     "name": "stdout",
     "output_type": "stream",
     "text": [
      "CPU times: user 14min 26s, sys: 1.75 s, total: 14min 27s\n",
      "Wall time: 14min 24s\n"
     ]
    }
   ],
   "source": [
    "# Set training parameters.\n",
    "num_topics = 3\n",
    "chunksize = 2000\n",
    "passes = 20\n",
    "iterations = 400\n",
    "eval_every = None  # Don't evaluate model perplexity, takes too much time.\n",
    "\n",
    "# Make a index to word dictionary.\n",
    "temp = res['dictionary'][0]  # This is only to \"load\" the dictionary.\n",
    "id2word = res['dictionary'].id2token\n",
    "\n",
    "%time model = LdaModel(corpus=res['corpus'], \\\n",
    "                       id2word=id2word, \\\n",
    "                       chunksize=chunksize, \\\n",
    "                       alpha='auto', \\\n",
    "                       eta='auto', \\\n",
    "                       iterations=iterations, \\\n",
    "                       num_topics=num_topics, \\\n",
    "                       passes=passes, \\\n",
    "                       eval_every=eval_every)"
   ]
  },
  {
   "cell_type": "code",
   "execution_count": 39,
   "metadata": {},
   "outputs": [
    {
     "name": "stdout",
     "output_type": "stream",
     "text": [
      "CPU times: user 4.71 s, sys: 136 ms, total: 4.85 s\n",
      "Wall time: 3.02 s\n"
     ]
    },
    {
     "data": {
      "text/html": [
       "<div>\n",
       "<style scoped>\n",
       "    .dataframe tbody tr th:only-of-type {\n",
       "        vertical-align: middle;\n",
       "    }\n",
       "\n",
       "    .dataframe tbody tr th {\n",
       "        vertical-align: top;\n",
       "    }\n",
       "\n",
       "    .dataframe thead th {\n",
       "        text-align: right;\n",
       "    }\n",
       "</style>\n",
       "<table border=\"1\" class=\"dataframe\">\n",
       "  <thead>\n",
       "    <tr style=\"text-align: right;\">\n",
       "      <th></th>\n",
       "      <th>Most relevant words</th>\n",
       "      <th>Prior</th>\n",
       "      <th>Most relevant docs</th>\n",
       "      <th>docs with probability &gt; thres</th>\n",
       "    </tr>\n",
       "  </thead>\n",
       "  <tbody>\n",
       "    <tr>\n",
       "      <th>0</th>\n",
       "      <td>[match, app, time, get, message, got, still, work, even, day]</td>\n",
       "      <td>117%</td>\n",
       "      <td>[1, 3487]</td>\n",
       "      <td>0%</td>\n",
       "    </tr>\n",
       "    <tr>\n",
       "      <th>1</th>\n",
       "      <td>[app, like, people, good, one, pay, get, profile, great, see]</td>\n",
       "      <td>192%</td>\n",
       "      <td>[226507, 325690]</td>\n",
       "      <td>3%</td>\n",
       "    </tr>\n",
       "    <tr>\n",
       "      <th>2</th>\n",
       "      <td>[tinder, account, money, banned, gold, use, month, reason, even, dont]</td>\n",
       "      <td>104%</td>\n",
       "      <td>[325311, 222542]</td>\n",
       "      <td>2%</td>\n",
       "    </tr>\n",
       "  </tbody>\n",
       "</table>\n",
       "</div>"
      ],
      "text/plain": [
       "                                                      Most relevant words  \\\n",
       "0           [match, app, time, get, message, got, still, work, even, day]   \n",
       "1           [app, like, people, good, one, pay, get, profile, great, see]   \n",
       "2  [tinder, account, money, banned, gold, use, month, reason, even, dont]   \n",
       "\n",
       "  Prior Most relevant docs docs with probability > thres  \n",
       "0  117%          [1, 3487]                            0%  \n",
       "1  192%   [226507, 325690]                            3%  \n",
       "2  104%   [325311, 222542]                            2%  "
      ]
     },
     "execution_count": 39,
     "metadata": {},
     "output_type": "execute_result"
    }
   ],
   "source": [
    "%time topic_display(model, 2, 0.2, res['corpus'])"
   ]
  },
  {
   "cell_type": "markdown",
   "metadata": {},
   "source": [
    "# Visualisation"
   ]
  },
  {
   "cell_type": "code",
   "execution_count": 42,
   "metadata": {},
   "outputs": [],
   "source": [
    "import pyLDAvis\n",
    "import pyLDAvis.gensim as gensimvis\n",
    "pyLDAvis.enable_notebook()"
   ]
  },
  {
   "cell_type": "code",
   "execution_count": 43,
   "metadata": {
    "scrolled": true
   },
   "outputs": [
    {
     "name": "stderr",
     "output_type": "stream",
     "text": [
      "/home/alexandre/anaconda3/lib/python3.7/site-packages/pyLDAvis/_prepare.py:257: FutureWarning: Sorting because non-concatenation axis is not aligned. A future version\n",
      "of pandas will change to not sort by default.\n",
      "\n",
      "To accept the future behavior, pass 'sort=False'.\n",
      "\n",
      "To retain the current behavior and silence the warning, pass 'sort=True'.\n",
      "\n",
      "  return pd.concat([default_term_info] + list(topic_dfs))\n"
     ]
    },
    {
     "data": {
      "text/html": [
       "\n",
       "<link rel=\"stylesheet\" type=\"text/css\" href=\"https://cdn.rawgit.com/bmabey/pyLDAvis/files/ldavis.v1.0.0.css\">\n",
       "\n",
       "\n",
       "<div id=\"ldavis_el109421404314864988961287470376\"></div>\n",
       "<script type=\"text/javascript\">\n",
       "\n",
       "var ldavis_el109421404314864988961287470376_data = {\"mdsDat\": {\"x\": [-0.17902243552575908, -0.19384527689438477, 0.3728677124201437], \"y\": [0.28709400214517583, -0.2795848238981251, -0.0075091782470508165], \"topics\": [1, 2, 3], \"cluster\": [1, 1, 1], \"Freq\": [43.92436599731445, 33.589927673339844, 22.48571014404297]}, \"tinfo\": {\"Category\": [\"Default\", \"Default\", \"Default\", \"Default\", \"Default\", \"Default\", \"Default\", \"Default\", \"Default\", \"Default\", \"Default\", \"Default\", \"Default\", \"Default\", \"Default\", \"Default\", \"Default\", \"Default\", \"Default\", \"Default\", \"Default\", \"Default\", \"Default\", \"Default\", \"Default\", \"Default\", \"Default\", \"Default\", \"Default\", \"Default\", \"Topic1\", \"Topic1\", \"Topic1\", \"Topic1\", \"Topic1\", \"Topic1\", \"Topic1\", \"Topic1\", \"Topic1\", \"Topic1\", \"Topic1\", \"Topic1\", \"Topic1\", \"Topic1\", \"Topic1\", \"Topic1\", \"Topic1\", \"Topic1\", \"Topic1\", \"Topic1\", \"Topic1\", \"Topic1\", \"Topic1\", \"Topic1\", \"Topic1\", \"Topic1\", \"Topic1\", \"Topic1\", \"Topic1\", \"Topic1\", \"Topic1\", \"Topic1\", \"Topic1\", \"Topic1\", \"Topic1\", \"Topic1\", \"Topic1\", \"Topic1\", \"Topic1\", \"Topic1\", \"Topic2\", \"Topic2\", \"Topic2\", \"Topic2\", \"Topic2\", \"Topic2\", \"Topic2\", \"Topic2\", \"Topic2\", \"Topic2\", \"Topic2\", \"Topic2\", \"Topic2\", \"Topic2\", \"Topic2\", \"Topic2\", \"Topic2\", \"Topic2\", \"Topic2\", \"Topic2\", \"Topic2\", \"Topic2\", \"Topic2\", \"Topic2\", \"Topic2\", \"Topic2\", \"Topic2\", \"Topic2\", \"Topic2\", \"Topic2\", \"Topic2\", \"Topic2\", \"Topic2\", \"Topic2\", \"Topic2\", \"Topic2\", \"Topic2\", \"Topic2\", \"Topic3\", \"Topic3\", \"Topic3\", \"Topic3\", \"Topic3\", \"Topic3\", \"Topic3\", \"Topic3\", \"Topic3\", \"Topic3\", \"Topic3\", \"Topic3\", \"Topic3\", \"Topic3\", \"Topic3\", \"Topic3\", \"Topic3\", \"Topic3\", \"Topic3\", \"Topic3\", \"Topic3\", \"Topic3\", \"Topic3\", \"Topic3\", \"Topic3\", \"Topic3\", \"Topic3\", \"Topic3\", \"Topic3\", \"Topic3\", \"Topic3\", \"Topic3\", \"Topic3\", \"Topic3\", \"Topic3\", \"Topic3\", \"Topic3\"], \"Freq\": [55591.0, 69473.0, 34904.0, 46879.0, 45566.0, 32710.0, 145167.0, 21527.0, 19330.0, 26373.0, 30748.0, 22438.0, 15913.0, 15510.0, 20740.0, 19802.0, 50520.0, 12281.0, 16588.0, 11806.0, 15936.0, 28368.0, 23848.0, 20202.0, 15121.0, 15038.0, 14884.0, 9646.0, 12998.0, 9288.0, 45565.74609375, 46878.9296875, 30747.345703125, 20202.1328125, 14678.318359375, 12753.20703125, 12289.0947265625, 11806.078125, 11581.45703125, 10609.70703125, 9862.369140625, 9495.2275390625, 10494.23828125, 9388.150390625, 9210.8974609375, 9288.123046875, 9113.869140625, 7916.6611328125, 7733.15087890625, 7935.26953125, 7796.70947265625, 7462.8212890625, 7133.142578125, 7328.20947265625, 7752.5029296875, 6558.97412109375, 6798.50439453125, 6444.3525390625, 5993.70068359375, 5924.95703125, 10151.490234375, 6429.17822265625, 23386.548828125, 89367.734375, 10966.5078125, 17507.083984375, 9285.8916015625, 13966.9052734375, 8918.5712890625, 18924.794921875, 69472.484375, 32709.9375, 26373.099609375, 19802.236328125, 20739.8515625, 22437.939453125, 15936.294921875, 16587.880859375, 14884.275390625, 15121.193359375, 15037.4267578125, 12997.650390625, 10902.52734375, 12133.6826171875, 10177.595703125, 8982.4443359375, 9905.2861328125, 9325.087890625, 7596.09716796875, 7632.10009765625, 7690.72802734375, 7577.0654296875, 6784.21875, 6771.3193359375, 7335.60009765625, 6510.10595703125, 7291.26904296875, 6786.44287109375, 5541.71923828125, 5447.28271484375, 10872.2158203125, 11844.0458984375, 31594.923828125, 55398.3359375, 16949.642578125, 11575.53515625, 12823.9140625, 8184.20068359375, 34904.16796875, 21526.470703125, 19329.283203125, 15509.82421875, 15912.84375, 11805.298828125, 12280.2490234375, 9287.505859375, 9645.525390625, 8420.419921875, 7919.43994140625, 6874.0732421875, 6650.1640625, 6524.26611328125, 5995.19970703125, 6411.2744140625, 5942.521484375, 5651.71533203125, 5747.68212890625, 4940.650390625, 4525.1796875, 4376.9462890625, 4195.62060546875, 4034.15087890625, 3869.561279296875, 3982.550048828125, 4581.02734375, 3945.48583984375, 3708.534912109375, 4022.190673828125, 55572.078125, 6536.095703125, 6205.666015625, 11418.78515625, 6620.95361328125, 4603.80078125, 4244.08984375], \"Term\": [\"tinder\", \"match\", \"account\", \"like\", \"people\", \"time\", \"app\", \"money\", \"banned\", \"message\", \"good\", \"got\", \"gold\", \"use\", \"still\", \"work\", \"get\", \"month\", \"day\", \"reason\", \"back\", \"even\", \"one\", \"pay\", \"say\", \"nothing\", \"getting\", \"dont\", \"keep\", \"subscription\", \"people\", \"like\", \"good\", \"pay\", \"great\", \"fake\", \"many\", \"really\", \"would\", \"find\", \"nice\", \"meet\", \"way\", \"girl\", \"lot\", \"guy\", \"bad\", \"woman\", \"love\", \"free\", \"dating\", \"better\", \"friend\", \"swipe\", \"ever\", \"best\", \"person\", \"much\", \"fake profile\", \"real\", \"someone\", \"liked\", \"one\", \"app\", \"make\", \"profile\", \"know\", \"see\", \"need\", \"get\", \"match\", \"time\", \"message\", \"work\", \"still\", \"got\", \"back\", \"day\", \"getting\", \"say\", \"nothing\", \"keep\", \"open\", \"show\", \"try\", \"update\", \"every\", \"problem\", \"notification\", \"phone\", \"issue\", \"always\", \"working\", \"fix\", \"wrong\", \"bug\", \"week\", \"send\", \"error\", \"showing\", \"tried\", \"log\", \"get\", \"app\", \"even\", \"never\", \"new\", \"profile\", \"account\", \"money\", \"banned\", \"use\", \"gold\", \"reason\", \"month\", \"subscription\", \"dont\", \"using\", \"cant\", \"got banned\", \"paid\", \"without\", \"email\", \"waste time\", \"service\", \"plus\", \"let\", \"suck\", \"number\", \"ban\", \"login\", \"phone number\", \"refund\", \"payment\", \"useless\", \"support\", \"facebook\", \"waste\", \"tinder\", \"help\", \"give\", \"even\", \"want\", \"anything\", \"please\"], \"Total\": [55591.0, 69473.0, 34904.0, 46879.0, 45566.0, 32710.0, 145167.0, 21527.0, 19330.0, 26373.0, 30748.0, 22438.0, 15913.0, 15510.0, 20740.0, 19802.0, 50520.0, 12281.0, 16588.0, 11806.0, 15936.0, 28368.0, 23848.0, 20202.0, 15121.0, 15038.0, 14884.0, 9646.0, 12998.0, 9288.0, 45566.47265625, 46879.70703125, 30748.05859375, 20202.927734375, 14679.0283203125, 12753.9560546875, 12289.85546875, 11806.84375, 11582.2509765625, 10610.4521484375, 9863.0634765625, 9495.9169921875, 10495.03125, 9388.87109375, 9211.6259765625, 9288.9130859375, 9114.6748046875, 7917.36962890625, 7733.84375, 7935.9931640625, 7797.421875, 7463.54150390625, 7133.85791015625, 7328.96923828125, 7753.3125, 6559.671875, 6799.26611328125, 6445.09375, 5994.423828125, 5925.6787109375, 10154.51171875, 6429.970703125, 23848.689453125, 145167.90625, 12788.439453125, 25691.599609375, 10538.1923828125, 20093.71484375, 10243.2626953125, 50520.0625, 69473.1640625, 32710.615234375, 26373.697265625, 19802.880859375, 20740.53515625, 22438.73828125, 15936.9833984375, 16588.61328125, 14884.9443359375, 15121.8984375, 15038.154296875, 12998.29296875, 10903.111328125, 12134.3408203125, 10178.267578125, 8983.0419921875, 9905.9619140625, 9325.7236328125, 7596.6845703125, 7632.71484375, 7691.365234375, 7577.72509765625, 6784.8271484375, 6771.931640625, 7336.2646484375, 6510.712890625, 7291.9677734375, 6787.10888671875, 5542.3046875, 5447.92236328125, 11009.724609375, 12441.3828125, 50520.0625, 145167.90625, 28368.79296875, 16859.38671875, 20178.666015625, 25691.599609375, 34904.94921875, 21527.30859375, 19330.06640625, 15510.6669921875, 15913.791015625, 11806.0869140625, 12281.0859375, 9288.2900390625, 9646.42578125, 8421.30859375, 7920.3056640625, 6874.8505859375, 6650.974609375, 6525.0830078125, 5995.98828125, 6412.13232421875, 5943.32177734375, 5652.501953125, 5748.50390625, 4941.49853515625, 4525.9716796875, 4377.71728515625, 4196.3818359375, 4034.88916015625, 3870.297119140625, 3983.318603515625, 4581.91748046875, 3946.2578125, 3709.27099609375, 4022.998779296875, 55591.26953125, 6625.20068359375, 7648.673828125, 28368.79296875, 13279.7421875, 7164.234375, 10267.283203125], \"loglift\": [30.0, 29.0, 28.0, 27.0, 26.0, 25.0, 24.0, 23.0, 22.0, 21.0, 20.0, 19.0, 18.0, 17.0, 16.0, 15.0, 14.0, 13.0, 12.0, 11.0, 10.0, 9.0, 8.0, 7.0, 6.0, 5.0, 4.0, 3.0, 2.0, 1.0, 0.822700023651123, 0.822700023651123, 0.822700023651123, 0.822700023651123, 0.822700023651123, 0.8226000070571899, 0.8226000070571899, 0.8226000070571899, 0.8226000070571899, 0.8226000070571899, 0.8226000070571899, 0.8226000070571899, 0.8226000070571899, 0.8226000070571899, 0.8226000070571899, 0.8226000070571899, 0.8226000070571899, 0.8226000070571899, 0.8226000070571899, 0.8226000070571899, 0.8226000070571899, 0.8226000070571899, 0.8226000070571899, 0.8226000070571899, 0.8226000070571899, 0.8226000070571899, 0.8226000070571899, 0.8226000070571899, 0.8226000070571899, 0.8226000070571899, 0.8223999738693237, 0.8226000070571899, 0.8030999898910522, 0.3375999927520752, 0.6690000295639038, 0.4390999972820282, 0.6962000131607056, 0.45899999141693115, 0.6841999888420105, -0.15919999778270721, 1.09089994430542, 1.09089994430542, 1.09089994430542, 1.09089994430542, 1.09089994430542, 1.09089994430542, 1.09089994430542, 1.09089994430542, 1.09089994430542, 1.09089994430542, 1.09089994430542, 1.09089994430542, 1.09089994430542, 1.09089994430542, 1.09089994430542, 1.09089994430542, 1.09089994430542, 1.09089994430542, 1.09089994430542, 1.09089994430542, 1.09089994430542, 1.09089994430542, 1.09089994430542, 1.09089994430542, 1.09089994430542, 1.09089994430542, 1.0908000469207764, 1.0908000469207764, 1.0908000469207764, 1.0908000469207764, 1.0784000158309937, 1.041700005531311, 0.6215999722480774, 0.12759999930858612, 0.5759000182151794, 0.714900016784668, 0.6376000046730042, -0.05299999937415123, 1.492300033569336, 1.492300033569336, 1.4922000169754028, 1.4922000169754028, 1.4922000169754028, 1.4922000169754028, 1.4922000169754028, 1.4922000169754028, 1.4922000169754028, 1.4922000169754028, 1.4922000169754028, 1.4922000169754028, 1.4922000169754028, 1.4922000169754028, 1.4922000169754028, 1.4922000169754028, 1.4922000169754028, 1.4922000169754028, 1.4921000003814697, 1.4921000003814697, 1.4921000003814697, 1.4921000003814697, 1.4921000003814697, 1.4921000003814697, 1.4921000003814697, 1.4921000003814697, 1.4921000003814697, 1.4921000003814697, 1.4921000003814697, 1.4921000003814697, 1.4918999671936035, 1.478700041770935, 1.2832000255584717, 0.5823000073432922, 0.7962999939918518, 1.0500999689102173, 0.6089000105857849], \"logprob\": [30.0, 29.0, 28.0, 27.0, 26.0, 25.0, 24.0, 23.0, 22.0, 21.0, 20.0, 19.0, 18.0, 17.0, 16.0, 15.0, 14.0, 13.0, 12.0, 11.0, 10.0, 9.0, 8.0, 7.0, 6.0, 5.0, 4.0, 3.0, 2.0, 1.0, -3.5007998943328857, -3.4723000526428223, -3.8940999507904053, -4.3140997886657715, -4.633500099182129, -4.774099826812744, -4.811200141906738, -4.85129976272583, -4.870500087738037, -4.958099842071533, -5.031199932098389, -5.0690999031066895, -4.969099998474121, -5.08050012588501, -5.0995001792907715, -5.09119987487793, -5.110099792480469, -5.250899791717529, -5.274400234222412, -5.248600006103516, -5.266200065612793, -5.309999942779541, -5.355199813842773, -5.328199863433838, -5.271900177001953, -5.4390997886657715, -5.403200149536133, -5.456699848175049, -5.529200077056885, -5.5406999588012695, -5.002299785614014, -5.459099769592285, -4.167799949645996, -2.827199935913086, -4.925099849700928, -4.457300186157227, -5.091400146484375, -4.683199882507324, -5.131800174713135, -4.37939977645874, -2.810699939727783, -3.563999891281128, -3.7792999744415283, -4.065899848937988, -4.019599914550781, -3.9409000873565674, -4.283100128173828, -4.243000030517578, -4.351399898529053, -4.335599899291992, -4.341100215911865, -4.4868998527526855, -4.662700176239014, -4.555699825286865, -4.731500148773193, -4.856400012969971, -4.758600234985352, -4.818999767303467, -5.02400016784668, -5.0192999839782715, -5.01170015335083, -5.026500225067139, -5.1371002197265625, -5.138999938964844, -5.058899879455566, -5.178299903869629, -5.065000057220459, -5.13670015335083, -5.339399814605713, -5.356599807739258, -4.665500164031982, -4.579800128936768, -3.5987000465393066, -3.037100076675415, -4.221399784088135, -4.602799892425537, -4.500400066375732, -4.94950008392334, -3.0977001190185547, -3.5810000896453857, -3.688699960708618, -3.908900022506714, -3.88319993019104, -4.18179988861084, -4.142300128936768, -4.4217000007629395, -4.383800029754639, -4.519700050354004, -4.580999851226807, -4.722599983215332, -4.75570011138916, -4.774799823760986, -4.859399795532227, -4.792300224304199, -4.868199825286865, -4.918399810791016, -4.901500225067139, -5.052800178527832, -5.140699863433838, -5.173999786376953, -5.216300010681152, -5.255499839782715, -5.2972002029418945, -5.268400192260742, -5.128399848937988, -5.2778000831604, -5.339700222015381, -5.258500099182129, -2.6326000690460205, -4.7729997634887695, -4.824900150299072, -4.215099811553955, -4.7600998878479, -5.1234002113342285, -5.204800128936768]}, \"token.table\": {\"Topic\": [3, 2, 2, 3, 1, 2, 3, 2, 1, 3, 3, 1, 1, 2, 2, 3, 1, 2, 3, 3, 2, 2, 3, 1, 2, 3, 1, 1, 1, 2, 1, 1, 1, 2, 2, 1, 1, 3, 3, 1, 2, 3, 1, 1, 2, 3, 2, 2, 1, 2, 3, 3, 1, 1, 2, 3, 3, 1, 1, 1, 3, 1, 2, 1, 2, 3, 3, 1, 1, 3, 1, 2, 3, 1, 2, 1, 2, 2, 3, 1, 2, 3, 2, 3, 1, 3, 1, 1, 2, 3, 2, 3, 3, 2, 1, 2, 1, 1, 3, 3, 2, 1, 2, 2, 3, 2, 2, 1, 2, 2, 3, 3, 3, 1, 2, 1, 3, 2, 3, 2, 2, 3, 2, 3, 2, 3, 1, 3, 3, 3, 1, 2, 3, 1, 2, 2, 1, 2], \"Freq\": [0.9999728202819824, 0.9999043345451355, 0.3573305904865265, 0.6426367163658142, 0.6156181693077087, 0.38161328434944153, 0.002769207116216421, 0.9999383091926575, 0.999925971031189, 0.9998361468315125, 0.999944806098938, 0.9998975992202759, 0.9999274611473083, 0.9998905062675476, 0.00012625775707419962, 0.9998351335525513, 0.999945878982544, 0.9999630451202393, 0.9999558329582214, 0.999835193157196, 0.9999450445175171, 0.5974875092506409, 0.40251976251602173, 0.9999597072601318, 0.9999029040336609, 0.9999269247055054, 0.9999250173568726, 0.9999293088912964, 0.9999573826789856, 0.9998624324798584, 0.9998748302459717, 0.9998797178268433, 0.37460365891456604, 0.6253951191902161, 0.999936580657959, 0.9999071955680847, 0.1886601597070694, 0.8113824725151062, 0.9999502897262573, 0.9999655485153198, 0.999967098236084, 0.9998762607574463, 0.9999299645423889, 0.9999017119407654, 0.013433555141091347, 0.9865361452102661, 0.999952495098114, 0.9999774694442749, 0.8811758160591125, 9.489293734077364e-05, 0.11880595237016678, 0.9999123215675354, 0.9999849200248718, 0.9998490214347839, 0.9519842267036438, 0.0479850210249424, 0.999908983707428, 0.999932050704956, 0.999890923500061, 0.8575714230537415, 0.14239422976970673, 0.9999303817749023, 0.9999832510948181, 0.9999034404754639, 0.9999735355377197, 0.9999392032623291, 0.9999115467071533, 0.9998303055763245, 0.8707186579704285, 0.12925569713115692, 0.2177422046661377, 0.6866204738616943, 0.09567370265722275, 0.3644443154335022, 0.6355226635932922, 0.9998921751976013, 0.9999232292175293, 0.9999098777770996, 0.999785304069519, 0.9806408882141113, 0.018449651077389717, 0.0009224825771525502, 0.9999898076057434, 0.9998534917831421, 0.999954104423523, 0.9999200105667114, 0.9999896287918091, 0.9999608397483826, 0.9999063611030579, 0.9997796416282654, 0.5866206288337708, 0.41335180401802063, 0.9999111890792847, 0.9999223947525024, 0.6814289689064026, 0.31854769587516785, 0.9998854398727417, 0.9999285340309143, 0.999907910823822, 0.9999232292175293, 0.9999405741691589, 0.6950929760932922, 0.3049212098121643, 0.9998366236686707, 0.999945878982544, 0.9999719262123108, 0.9998307228088379, 0.9996541738510132, 0.0002954351657535881, 0.9999741911888123, 0.9999687671661377, 0.9998990893363953, 0.999681293964386, 0.9998677372932434, 0.999981164932251, 0.00034178027999587357, 0.9996533989906311, 0.9874906539916992, 0.0124435443431139, 0.999973714351654, 0.9998840093612671, 0.9999570250511169, 0.00021824923169333488, 0.9997997879981995, 0.0001187463931273669, 0.9998446106910706, 0.5013651847839355, 0.4985789656639099, 0.9997517466545105, 0.9998233914375305, 0.9999017119407654, 0.9998672604560852, 0.9998340010643005, 0.9999533295631409, 0.9999555349349976, 0.9998781085014343, 0.999891996383667, 0.9999639391899109], \"Term\": [\"account\", \"always\", \"anything\", \"anything\", \"app\", \"app\", \"app\", \"back\", \"bad\", \"ban\", \"banned\", \"best\", \"better\", \"bug\", \"cant\", \"cant\", \"dating\", \"day\", \"dont\", \"email\", \"error\", \"even\", \"even\", \"ever\", \"every\", \"facebook\", \"fake\", \"fake profile\", \"find\", \"fix\", \"free\", \"friend\", \"get\", \"get\", \"getting\", \"girl\", \"give\", \"give\", \"gold\", \"good\", \"got\", \"got banned\", \"great\", \"guy\", \"help\", \"help\", \"issue\", \"keep\", \"know\", \"know\", \"know\", \"let\", \"like\", \"liked\", \"log\", \"log\", \"login\", \"lot\", \"love\", \"make\", \"make\", \"many\", \"match\", \"meet\", \"message\", \"money\", \"month\", \"much\", \"need\", \"need\", \"never\", \"never\", \"never\", \"new\", \"new\", \"nice\", \"nothing\", \"notification\", \"number\", \"one\", \"one\", \"one\", \"open\", \"paid\", \"pay\", \"payment\", \"people\", \"person\", \"phone\", \"phone number\", \"please\", \"please\", \"plus\", \"problem\", \"profile\", \"profile\", \"real\", \"really\", \"reason\", \"refund\", \"say\", \"see\", \"see\", \"send\", \"service\", \"show\", \"showing\", \"someone\", \"someone\", \"still\", \"subscription\", \"suck\", \"support\", \"swipe\", \"time\", \"tinder\", \"tinder\", \"tried\", \"tried\", \"try\", \"update\", \"use\", \"useless\", \"useless\", \"using\", \"using\", \"want\", \"want\", \"waste\", \"waste time\", \"way\", \"week\", \"without\", \"woman\", \"work\", \"working\", \"would\", \"wrong\"]}, \"R\": 30, \"lambda.step\": 0.01, \"plot.opts\": {\"xlab\": \"PC1\", \"ylab\": \"PC2\"}, \"topic.order\": [2, 1, 3]};\n",
       "\n",
       "function LDAvis_load_lib(url, callback){\n",
       "  var s = document.createElement('script');\n",
       "  s.src = url;\n",
       "  s.async = true;\n",
       "  s.onreadystatechange = s.onload = callback;\n",
       "  s.onerror = function(){console.warn(\"failed to load library \" + url);};\n",
       "  document.getElementsByTagName(\"head\")[0].appendChild(s);\n",
       "}\n",
       "\n",
       "if(typeof(LDAvis) !== \"undefined\"){\n",
       "   // already loaded: just create the visualization\n",
       "   !function(LDAvis){\n",
       "       new LDAvis(\"#\" + \"ldavis_el109421404314864988961287470376\", ldavis_el109421404314864988961287470376_data);\n",
       "   }(LDAvis);\n",
       "}else if(typeof define === \"function\" && define.amd){\n",
       "   // require.js is available: use it to load d3/LDAvis\n",
       "   require.config({paths: {d3: \"https://cdnjs.cloudflare.com/ajax/libs/d3/3.5.5/d3.min\"}});\n",
       "   require([\"d3\"], function(d3){\n",
       "      window.d3 = d3;\n",
       "      LDAvis_load_lib(\"https://cdn.rawgit.com/bmabey/pyLDAvis/files/ldavis.v1.0.0.js\", function(){\n",
       "        new LDAvis(\"#\" + \"ldavis_el109421404314864988961287470376\", ldavis_el109421404314864988961287470376_data);\n",
       "      });\n",
       "    });\n",
       "}else{\n",
       "    // require.js not available: dynamically load d3 & LDAvis\n",
       "    LDAvis_load_lib(\"https://cdnjs.cloudflare.com/ajax/libs/d3/3.5.5/d3.min.js\", function(){\n",
       "         LDAvis_load_lib(\"https://cdn.rawgit.com/bmabey/pyLDAvis/files/ldavis.v1.0.0.js\", function(){\n",
       "                 new LDAvis(\"#\" + \"ldavis_el109421404314864988961287470376\", ldavis_el109421404314864988961287470376_data);\n",
       "            })\n",
       "         });\n",
       "}\n",
       "</script>"
      ],
      "text/plain": [
       "<IPython.core.display.HTML object>"
      ]
     },
     "execution_count": 43,
     "metadata": {},
     "output_type": "execute_result"
    }
   ],
   "source": [
    "vis_data = gensimvis.prepare(model, res['corpus'], res['dictionary']) # MDS available : pcoa, tsne, mmds\n",
    "pyLDAvis.display(vis_data)"
   ]
  },
  {
   "cell_type": "code",
   "execution_count": 44,
   "metadata": {},
   "outputs": [],
   "source": [
    "pyLDAvis.save_html(vis_data, \"data/07_model_output/tinder_vis_lda.html\")"
   ]
  },
  {
   "cell_type": "markdown",
   "metadata": {},
   "source": [
    "# Linkedin"
   ]
  },
  {
   "cell_type": "code",
   "execution_count": 45,
   "metadata": {},
   "outputs": [
    {
     "name": "stdout",
     "output_type": "stream",
     "text": [
      "(90091, 4)\n"
     ]
    },
    {
     "data": {
      "text/html": [
       "<div>\n",
       "<style scoped>\n",
       "    .dataframe tbody tr th:only-of-type {\n",
       "        vertical-align: middle;\n",
       "    }\n",
       "\n",
       "    .dataframe tbody tr th {\n",
       "        vertical-align: top;\n",
       "    }\n",
       "\n",
       "    .dataframe thead th {\n",
       "        text-align: right;\n",
       "    }\n",
       "</style>\n",
       "<table border=\"1\" class=\"dataframe\">\n",
       "  <thead>\n",
       "    <tr style=\"text-align: right;\">\n",
       "      <th></th>\n",
       "      <th>review</th>\n",
       "      <th>stars</th>\n",
       "      <th>version</th>\n",
       "      <th>date</th>\n",
       "    </tr>\n",
       "  </thead>\n",
       "  <tbody>\n",
       "    <tr>\n",
       "      <th>0</th>\n",
       "      <td>No issues.</td>\n",
       "      <td>5.0</td>\n",
       "      <td>4.1.401</td>\n",
       "      <td>2020-02-16T07:08:34</td>\n",
       "    </tr>\n",
       "    <tr>\n",
       "      <th>1</th>\n",
       "      <td>Installed on my device automatically, can't be removed or shut off. Stop forcing your app on people who don't want it.</td>\n",
       "      <td>1.0</td>\n",
       "      <td>1.0.0</td>\n",
       "      <td>2020-02-16T06:17:11</td>\n",
       "    </tr>\n",
       "    <tr>\n",
       "      <th>2</th>\n",
       "      <td>Very convenient and easy touse</td>\n",
       "      <td>5.0</td>\n",
       "      <td>4.1.405</td>\n",
       "      <td>2020-02-16T05:55:58</td>\n",
       "    </tr>\n",
       "    <tr>\n",
       "      <th>3</th>\n",
       "      <td>Excellant platform for B2B B2C professional opportunities .</td>\n",
       "      <td>5.0</td>\n",
       "      <td>NaN</td>\n",
       "      <td>2020-02-16T05:55:19</td>\n",
       "    </tr>\n",
       "    <tr>\n",
       "      <th>4</th>\n",
       "      <td>Good to use.</td>\n",
       "      <td>1.0</td>\n",
       "      <td>4.1.388</td>\n",
       "      <td>2020-02-16T04:43:57</td>\n",
       "    </tr>\n",
       "  </tbody>\n",
       "</table>\n",
       "</div>"
      ],
      "text/plain": [
       "                                                                                                                   review  \\\n",
       "0                                                                                                              No issues.   \n",
       "1  Installed on my device automatically, can't be removed or shut off. Stop forcing your app on people who don't want it.   \n",
       "2                                                                                          Very convenient and easy touse   \n",
       "3                                                             Excellant platform for B2B B2C professional opportunities .   \n",
       "4                                                                                                            Good to use.   \n",
       "\n",
       "   stars  version                 date  \n",
       "0    5.0  4.1.401  2020-02-16T07:08:34  \n",
       "1    1.0    1.0.0  2020-02-16T06:17:11  \n",
       "2    5.0  4.1.405  2020-02-16T05:55:58  \n",
       "3    5.0      NaN  2020-02-16T05:55:19  \n",
       "4    1.0  4.1.388  2020-02-16T04:43:57  "
      ]
     },
     "execution_count": 45,
     "metadata": {},
     "output_type": "execute_result"
    }
   ],
   "source": [
    "docs=pd.read_csv(\"../reviews_linkedin_cleaned.csv\")\n",
    "print(docs.shape)\n",
    "docs.head()"
   ]
  },
  {
   "cell_type": "code",
   "execution_count": null,
   "metadata": {},
   "outputs": [],
   "source": [
    "docs[\"date\"] = docs[\"date\"].apply(lambda x: x[:7])\n",
    "docs = docs.reset_index().drop(columns=['stars', 'version', 'index'])\n",
    "docs = docs.rename(columns={\"review\": \"text\", \"date\": \"timestamp\"})\n",
    "\n",
    "res = preprocess_dataset(docs, extreme_no_below, extreme_no_above, enable_bigram, min_bigram_count, basic_word_analysis)"
   ]
  },
  {
   "cell_type": "code",
   "execution_count": 49,
   "metadata": {},
   "outputs": [
    {
     "name": "stdout",
     "output_type": "stream",
     "text": [
      "CPU times: user 3min 5s, sys: 67.8 ms, total: 3min 6s\n",
      "Wall time: 3min 5s\n"
     ]
    }
   ],
   "source": [
    "# Set training parameters.\n",
    "num_topics = 10\n",
    "chunksize = 2000\n",
    "passes = 20\n",
    "iterations = 400\n",
    "eval_every = None  # Don't evaluate model perplexity, takes too much time.\n",
    "\n",
    "# Make a index to word dictionary.\n",
    "temp = res['dictionary'][0]  # This is only to \"load\" the dictionary.\n",
    "id2word = res['dictionary'].id2token\n",
    "\n",
    "%time model = LdaModel(corpus=res['corpus'], \\\n",
    "                       id2word=id2word, \\\n",
    "                       chunksize=chunksize, \\\n",
    "                       alpha='auto', \\\n",
    "                       eta='auto', \\\n",
    "                       iterations=iterations, \\\n",
    "                       num_topics=num_topics, \\\n",
    "                       passes=passes, \\\n",
    "                       eval_every=eval_every)"
   ]
  },
  {
   "cell_type": "markdown",
   "metadata": {},
   "source": [
    "## Result for 3 topics"
   ]
  },
  {
   "cell_type": "code",
   "execution_count": 48,
   "metadata": {},
   "outputs": [
    {
     "data": {
      "text/html": [
       "<div>\n",
       "<style scoped>\n",
       "    .dataframe tbody tr th:only-of-type {\n",
       "        vertical-align: middle;\n",
       "    }\n",
       "\n",
       "    .dataframe tbody tr th {\n",
       "        vertical-align: top;\n",
       "    }\n",
       "\n",
       "    .dataframe thead th {\n",
       "        text-align: right;\n",
       "    }\n",
       "</style>\n",
       "<table border=\"1\" class=\"dataframe\">\n",
       "  <thead>\n",
       "    <tr style=\"text-align: right;\">\n",
       "      <th></th>\n",
       "      <th>Most relevant words</th>\n",
       "      <th>Prior</th>\n",
       "      <th>Most relevant docs</th>\n",
       "      <th>docs with probability &gt; thres</th>\n",
       "    </tr>\n",
       "  </thead>\n",
       "  <tbody>\n",
       "    <tr>\n",
       "      <th>0</th>\n",
       "      <td>[good, job, professional, nice, people, linkedin, application, one, experience, business]</td>\n",
       "      <td>102%</td>\n",
       "      <td>[25857, 47225]</td>\n",
       "      <td>32%</td>\n",
       "    </tr>\n",
       "    <tr>\n",
       "      <th>1</th>\n",
       "      <td>[app, great, best, work, love, useful, helpful, excellent, connection, thanks]</td>\n",
       "      <td>78%</td>\n",
       "      <td>[29524, 30112]</td>\n",
       "      <td>1%</td>\n",
       "    </tr>\n",
       "    <tr>\n",
       "      <th>2</th>\n",
       "      <td>[linkedin, update, use, time, even, phone, notification, account, message, post]</td>\n",
       "      <td>126%</td>\n",
       "      <td>[504, 1666]</td>\n",
       "      <td>1%</td>\n",
       "    </tr>\n",
       "  </tbody>\n",
       "</table>\n",
       "</div>"
      ],
      "text/plain": [
       "                                                                         Most relevant words  \\\n",
       "0  [good, job, professional, nice, people, linkedin, application, one, experience, business]   \n",
       "1             [app, great, best, work, love, useful, helpful, excellent, connection, thanks]   \n",
       "2           [linkedin, update, use, time, even, phone, notification, account, message, post]   \n",
       "\n",
       "  Prior Most relevant docs docs with probability > thres  \n",
       "0  102%     [25857, 47225]                           32%  \n",
       "1   78%     [29524, 30112]                            1%  \n",
       "2  126%        [504, 1666]                            1%  "
      ]
     },
     "execution_count": 48,
     "metadata": {},
     "output_type": "execute_result"
    }
   ],
   "source": [
    "topic_display(model, 2, 0.2, res['corpus'])"
   ]
  },
  {
   "cell_type": "markdown",
   "metadata": {},
   "source": [
    "## Result for 10 topics"
   ]
  },
  {
   "cell_type": "code",
   "execution_count": 50,
   "metadata": {},
   "outputs": [
    {
     "data": {
      "text/html": [
       "<div>\n",
       "<style scoped>\n",
       "    .dataframe tbody tr th:only-of-type {\n",
       "        vertical-align: middle;\n",
       "    }\n",
       "\n",
       "    .dataframe tbody tr th {\n",
       "        vertical-align: top;\n",
       "    }\n",
       "\n",
       "    .dataframe thead th {\n",
       "        text-align: right;\n",
       "    }\n",
       "</style>\n",
       "<table border=\"1\" class=\"dataframe\">\n",
       "  <thead>\n",
       "    <tr style=\"text-align: right;\">\n",
       "      <th></th>\n",
       "      <th>Most relevant words</th>\n",
       "      <th>Prior</th>\n",
       "      <th>Most relevant docs</th>\n",
       "      <th>docs with probability &gt; thres</th>\n",
       "    </tr>\n",
       "  </thead>\n",
       "  <tbody>\n",
       "    <tr>\n",
       "      <th>0</th>\n",
       "      <td>[linkedin, use, notification, account, message, post, need, please, profile, want]</td>\n",
       "      <td>303%</td>\n",
       "      <td>[25857, 47225]</td>\n",
       "      <td>32%</td>\n",
       "    </tr>\n",
       "    <tr>\n",
       "      <th>1</th>\n",
       "      <td>[nice, awesome, bad, informative, download, must, user friendly, wonderful, connecting, interface]</td>\n",
       "      <td>67%</td>\n",
       "      <td>[29524, 30112]</td>\n",
       "      <td>1%</td>\n",
       "    </tr>\n",
       "    <tr>\n",
       "      <th>2</th>\n",
       "      <td>[really, help, thanks, career, easy use, team, posting, human, fantastic, date]</td>\n",
       "      <td>69%</td>\n",
       "      <td>[504, 1666]</td>\n",
       "      <td>1%</td>\n",
       "    </tr>\n",
       "    <tr>\n",
       "      <th>3</th>\n",
       "      <td>[get, people, like, new, many, way, find, connection, contact, know]</td>\n",
       "      <td>165%</td>\n",
       "      <td>[65181, 17693]</td>\n",
       "      <td>5%</td>\n",
       "    </tr>\n",
       "    <tr>\n",
       "      <th>4</th>\n",
       "      <td>[app, good, great, job, professional, best, one, application, useful, experience]</td>\n",
       "      <td>357%</td>\n",
       "      <td>[71267, 71569]</td>\n",
       "      <td>0%</td>\n",
       "    </tr>\n",
       "    <tr>\n",
       "      <th>5</th>\n",
       "      <td>[work, well, job search, edit, ok, location, upload resume, resume, properly, apply]</td>\n",
       "      <td>62%</td>\n",
       "      <td>[64224, 12598]</td>\n",
       "      <td>1%</td>\n",
       "    </tr>\n",
       "    <tr>\n",
       "      <th>6</th>\n",
       "      <td>[update, time, even, phone, working, able, using, always, issue, page]</td>\n",
       "      <td>260%</td>\n",
       "      <td>[15279, 17531]</td>\n",
       "      <td>0%</td>\n",
       "    </tr>\n",
       "    <tr>\n",
       "      <th>7</th>\n",
       "      <td>[change, service, anything, happy, response, developer, others, resource, level, document]</td>\n",
       "      <td>67%</td>\n",
       "      <td>[17506, 23216]</td>\n",
       "      <td>2%</td>\n",
       "    </tr>\n",
       "    <tr>\n",
       "      <th>8</th>\n",
       "      <td>[love, uninstall, cant, wrong, video, sent, perfect, reply, suck, fine]</td>\n",
       "      <td>71%</td>\n",
       "      <td>[2, 606]</td>\n",
       "      <td>0%</td>\n",
       "    </tr>\n",
       "    <tr>\n",
       "      <th>9</th>\n",
       "      <td>[helpful, year, lot, getting, day, better, got, month, used, think]</td>\n",
       "      <td>108%</td>\n",
       "      <td>[73100, 2]</td>\n",
       "      <td>0%</td>\n",
       "    </tr>\n",
       "  </tbody>\n",
       "</table>\n",
       "</div>"
      ],
      "text/plain": [
       "                                                                                  Most relevant words  \\\n",
       "0                  [linkedin, use, notification, account, message, post, need, please, profile, want]   \n",
       "1  [nice, awesome, bad, informative, download, must, user friendly, wonderful, connecting, interface]   \n",
       "2                     [really, help, thanks, career, easy use, team, posting, human, fantastic, date]   \n",
       "3                                [get, people, like, new, many, way, find, connection, contact, know]   \n",
       "4                   [app, good, great, job, professional, best, one, application, useful, experience]   \n",
       "5                [work, well, job search, edit, ok, location, upload resume, resume, properly, apply]   \n",
       "6                              [update, time, even, phone, working, able, using, always, issue, page]   \n",
       "7          [change, service, anything, happy, response, developer, others, resource, level, document]   \n",
       "8                             [love, uninstall, cant, wrong, video, sent, perfect, reply, suck, fine]   \n",
       "9                                 [helpful, year, lot, getting, day, better, got, month, used, think]   \n",
       "\n",
       "  Prior Most relevant docs docs with probability > thres  \n",
       "0  303%     [25857, 47225]                           32%  \n",
       "1   67%     [29524, 30112]                            1%  \n",
       "2   69%        [504, 1666]                            1%  \n",
       "3  165%     [65181, 17693]                            5%  \n",
       "4  357%     [71267, 71569]                            0%  \n",
       "5   62%     [64224, 12598]                            1%  \n",
       "6  260%     [15279, 17531]                            0%  \n",
       "7   67%     [17506, 23216]                            2%  \n",
       "8   71%           [2, 606]                            0%  \n",
       "9  108%         [73100, 2]                            0%  "
      ]
     },
     "execution_count": 50,
     "metadata": {},
     "output_type": "execute_result"
    }
   ],
   "source": [
    "topic_display(model, 2, 0.2, res['corpus'])"
   ]
  },
  {
   "cell_type": "code",
   "execution_count": null,
   "metadata": {},
   "outputs": [],
   "source": []
  }
 ],
 "metadata": {
  "kernelspec": {
   "display_name": "DynamicTopicModeling",
   "language": "python",
   "name": "python3"
  },
  "language_info": {
   "codemirror_mode": {
    "name": "ipython",
    "version": 3
   },
   "file_extension": ".py",
   "mimetype": "text/x-python",
   "name": "python",
   "nbconvert_exporter": "python",
   "pygments_lexer": "ipython3",
   "version": "3.7.4"
  }
 },
 "nbformat": 4,
 "nbformat_minor": 2
}
