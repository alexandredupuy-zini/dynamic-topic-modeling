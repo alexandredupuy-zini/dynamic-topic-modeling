{
 "cells": [
  {
   "cell_type": "code",
   "execution_count": 1,
   "metadata": {},
   "outputs": [
    {
     "name": "stdout",
     "output_type": "stream",
     "text": [
      "2020-03-26 10:45:49,735 - root - INFO - ** Kedro project Dynamic Topic Modeling\n",
      "2020-03-26 10:45:49,735 - root - INFO - Defined global variable `context` and `catalog`\n"
     ]
    }
   ],
   "source": [
    "%reload_kedro"
   ]
  },
  {
   "cell_type": "code",
   "execution_count": 2,
   "metadata": {},
   "outputs": [],
   "source": [
    "import pandas as pd\n",
    "from gensim.models.doc2vec import Doc2Vec, TaggedDocument\n",
    "from sklearn.cluster import KMeans\n",
    "from sklearn.manifold import TSNE\n",
    "import matplotlib.pyplot as plt"
   ]
  },
  {
   "cell_type": "code",
   "execution_count": 3,
   "metadata": {},
   "outputs": [
    {
     "data": {
      "text/html": [
       "<div>\n",
       "<style scoped>\n",
       "    .dataframe tbody tr th:only-of-type {\n",
       "        vertical-align: middle;\n",
       "    }\n",
       "\n",
       "    .dataframe tbody tr th {\n",
       "        vertical-align: top;\n",
       "    }\n",
       "\n",
       "    .dataframe thead th {\n",
       "        text-align: right;\n",
       "    }\n",
       "</style>\n",
       "<table border=\"1\" class=\"dataframe\">\n",
       "  <thead>\n",
       "    <tr style=\"text-align: right;\">\n",
       "      <th></th>\n",
       "      <th>timestamp</th>\n",
       "      <th>text</th>\n",
       "    </tr>\n",
       "  </thead>\n",
       "  <tbody>\n",
       "    <tr>\n",
       "      <th>0</th>\n",
       "      <td>1970</td>\n",
       "      <td>[general, assembly, fortunate, indeed, preside...</td>\n",
       "    </tr>\n",
       "    <tr>\n",
       "      <th>1</th>\n",
       "      <td>1970</td>\n",
       "      <td>[give, great, pleasure, mr, president, extend,...</td>\n",
       "    </tr>\n",
       "    <tr>\n",
       "      <th>2</th>\n",
       "      <td>1970</td>\n",
       "      <td>[mr, president, behalf, excellency, mzee, jomo...</td>\n",
       "    </tr>\n",
       "    <tr>\n",
       "      <th>3</th>\n",
       "      <td>1970</td>\n",
       "      <td>[mr, president, pleasure, speak, time, presidi...</td>\n",
       "    </tr>\n",
       "    <tr>\n",
       "      <th>4</th>\n",
       "      <td>1970</td>\n",
       "      <td>[may, say, delegation, malaysia, philippine, d...</td>\n",
       "    </tr>\n",
       "    <tr>\n",
       "      <th>...</th>\n",
       "      <td>...</td>\n",
       "      <td>...</td>\n",
       "    </tr>\n",
       "    <tr>\n",
       "      <th>7502</th>\n",
       "      <td>2015</td>\n",
       "      <td>[would, first, like, congratulate, mr, preside...</td>\n",
       "    </tr>\n",
       "    <tr>\n",
       "      <th>7503</th>\n",
       "      <td>2015</td>\n",
       "      <td>[distinct, honour, privilege, participate, pro...</td>\n",
       "    </tr>\n",
       "    <tr>\n",
       "      <th>7504</th>\n",
       "      <td>2015</td>\n",
       "      <td>[enormously, happy, behalf, bolivian, people, ...</td>\n",
       "    </tr>\n",
       "    <tr>\n",
       "      <th>7505</th>\n",
       "      <td>2015</td>\n",
       "      <td>[costa, rica, would, like, congratulate, sir, ...</td>\n",
       "    </tr>\n",
       "    <tr>\n",
       "      <th>7506</th>\n",
       "      <td>2015</td>\n",
       "      <td>[would, like, congratulate, mr, mogens, lykket...</td>\n",
       "    </tr>\n",
       "  </tbody>\n",
       "</table>\n",
       "<p>7507 rows × 2 columns</p>\n",
       "</div>"
      ],
      "text/plain": [
       "      timestamp                                               text\n",
       "0          1970  [general, assembly, fortunate, indeed, preside...\n",
       "1          1970  [give, great, pleasure, mr, president, extend,...\n",
       "2          1970  [mr, president, behalf, excellency, mzee, jomo...\n",
       "3          1970  [mr, president, pleasure, speak, time, presidi...\n",
       "4          1970  [may, say, delegation, malaysia, philippine, d...\n",
       "...         ...                                                ...\n",
       "7502       2015  [would, first, like, congratulate, mr, preside...\n",
       "7503       2015  [distinct, honour, privilege, participate, pro...\n",
       "7504       2015  [enormously, happy, behalf, bolivian, people, ...\n",
       "7505       2015  [costa, rica, would, like, congratulate, sir, ...\n",
       "7506       2015  [would, like, congratulate, mr, mogens, lykket...\n",
       "\n",
       "[7507 rows x 2 columns]"
      ]
     },
     "execution_count": 3,
     "metadata": {},
     "output_type": "execute_result"
    }
   ],
   "source": [
    "docs = pd.read_csv(\"data/03_primary/un-general-debates-preprocessed.csv\")\n",
    "docs = docs.drop(columns=[\"session\", \"country\", \"timeslice\"])\n",
    "docs[\"text\"] = docs[\"text\"].apply(lambda doc: doc[1:-1].replace(\"'\", \"\").replace(\",\", \"\").split(\" \"))\n",
    "docs"
   ]
  },
  {
   "cell_type": "markdown",
   "metadata": {},
   "source": [
    "# Doc2Vec"
   ]
  },
  {
   "cell_type": "code",
   "execution_count": 4,
   "metadata": {},
   "outputs": [],
   "source": [
    "def read_corpus(docs):\n",
    "    for i, text in enumerate(docs):\n",
    "        yield TaggedDocument(text, [i])"
   ]
  },
  {
   "cell_type": "code",
   "execution_count": 5,
   "metadata": {},
   "outputs": [],
   "source": [
    "corpus = list(read_corpus(docs[\"text\"]))"
   ]
  },
  {
   "cell_type": "code",
   "execution_count": 6,
   "metadata": {},
   "outputs": [],
   "source": [
    "model = Doc2Vec(vector_size=300, min_count=2, epochs=50)"
   ]
  },
  {
   "cell_type": "code",
   "execution_count": 7,
   "metadata": {},
   "outputs": [
    {
     "name": "stdout",
     "output_type": "stream",
     "text": [
      "2020-03-26 10:46:09,916 - gensim.models.doc2vec - INFO - collecting all words and their counts\n",
      "2020-03-26 10:46:09,918 - gensim.models.doc2vec - INFO - PROGRESS: at example #0, processed 0 words (0/s), 0 word types, 0 tags\n",
      "2020-03-26 10:46:11,588 - gensim.models.doc2vec - INFO - collected 46754 word types and 7507 unique tags from a corpus of 7507 examples and 11265309 words\n",
      "2020-03-26 10:46:11,589 - gensim.models.word2vec - INFO - Loading a fresh vocabulary\n",
      "2020-03-26 10:46:11,647 - gensim.models.word2vec - INFO - effective_min_count=2 retains 31139 unique words (66% of original 46754, drops 15615)\n",
      "2020-03-26 10:46:11,648 - gensim.models.word2vec - INFO - effective_min_count=2 leaves 11249694 word corpus (99% of original 11265309, drops 15615)\n",
      "2020-03-26 10:46:11,737 - gensim.models.word2vec - INFO - deleting the raw counts dictionary of 46754 items\n",
      "2020-03-26 10:46:11,738 - gensim.models.word2vec - INFO - sample=0.001 downsamples 33 most-common words\n",
      "2020-03-26 10:46:11,739 - gensim.models.word2vec - INFO - downsampling leaves estimated 10546298 word corpus (93.7% of prior 11249694)\n",
      "2020-03-26 10:46:11,842 - gensim.models.base_any2vec - INFO - estimated required memory for 31139 words and 300 dimensions: 99311500 bytes\n",
      "2020-03-26 10:46:11,842 - gensim.models.word2vec - INFO - resetting layer weights\n"
     ]
    }
   ],
   "source": [
    "model.build_vocab(corpus)"
   ]
  },
  {
   "cell_type": "code",
   "execution_count": 8,
   "metadata": {
    "scrolled": true
   },
   "outputs": [
    {
     "name": "stdout",
     "output_type": "stream",
     "text": [
      "2020-03-26 10:48:02,955 - gensim.models.base_any2vec - INFO - training model with 3 workers on 31139 vocabulary and 300 features, using sg=0 hs=0 sample=0.001 negative=5 window=5\n",
      "2020-03-26 10:48:03,968 - gensim.models.base_any2vec - INFO - EPOCH 1 - PROGRESS: at 5.49% examples, 765923 words/s, in_qsize 5, out_qsize 0\n",
      "2020-03-26 10:48:15,573 - gensim.models.base_any2vec - INFO - worker thread finished; awaiting finish of 2 more threads\n",
      "2020-03-26 10:48:15,574 - gensim.models.base_any2vec - INFO - worker thread finished; awaiting finish of 1 more threads\n",
      "2020-03-26 10:48:15,575 - gensim.models.base_any2vec - INFO - worker thread finished; awaiting finish of 0 more threads\n",
      "2020-03-26 10:48:15,575 - gensim.models.base_any2vec - INFO - EPOCH - 1 : training on 11265309 raw words (10554042 effective words) took 12.6s, 836480 effective words/s\n",
      "2020-03-26 10:48:16,578 - gensim.models.base_any2vec - INFO - EPOCH 2 - PROGRESS: at 5.93% examples, 833295 words/s, in_qsize 6, out_qsize 0\n",
      "2020-03-26 10:48:28,022 - gensim.models.base_any2vec - INFO - worker thread finished; awaiting finish of 2 more threads\n",
      "2020-03-26 10:48:28,029 - gensim.models.base_any2vec - INFO - worker thread finished; awaiting finish of 1 more threads\n",
      "2020-03-26 10:48:28,034 - gensim.models.base_any2vec - INFO - worker thread finished; awaiting finish of 0 more threads\n",
      "2020-03-26 10:48:28,035 - gensim.models.base_any2vec - INFO - EPOCH - 2 : training on 11265309 raw words (10554290 effective words) took 12.5s, 847230 effective words/s\n",
      "2020-03-26 10:48:29,046 - gensim.models.base_any2vec - INFO - EPOCH 3 - PROGRESS: at 6.02% examples, 844500 words/s, in_qsize 6, out_qsize 0\n",
      "2020-03-26 10:48:40,392 - gensim.models.base_any2vec - INFO - worker thread finished; awaiting finish of 2 more threads\n",
      "2020-03-26 10:48:40,400 - gensim.models.base_any2vec - INFO - worker thread finished; awaiting finish of 1 more threads\n",
      "2020-03-26 10:48:40,401 - gensim.models.base_any2vec - INFO - worker thread finished; awaiting finish of 0 more threads\n",
      "2020-03-26 10:48:40,402 - gensim.models.base_any2vec - INFO - EPOCH - 3 : training on 11265309 raw words (10554182 effective words) took 12.4s, 853675 effective words/s\n",
      "2020-03-26 10:48:41,419 - gensim.models.base_any2vec - INFO - EPOCH 4 - PROGRESS: at 6.02% examples, 838469 words/s, in_qsize 6, out_qsize 0\n",
      "2020-03-26 10:48:52,828 - gensim.models.base_any2vec - INFO - worker thread finished; awaiting finish of 2 more threads\n",
      "2020-03-26 10:48:52,833 - gensim.models.base_any2vec - INFO - worker thread finished; awaiting finish of 1 more threads\n",
      "2020-03-26 10:48:52,834 - gensim.models.base_any2vec - INFO - worker thread finished; awaiting finish of 0 more threads\n",
      "2020-03-26 10:48:52,834 - gensim.models.base_any2vec - INFO - EPOCH - 4 : training on 11265309 raw words (10553647 effective words) took 12.4s, 849000 effective words/s\n",
      "2020-03-26 10:48:53,838 - gensim.models.base_any2vec - INFO - EPOCH 5 - PROGRESS: at 5.78% examples, 815306 words/s, in_qsize 5, out_qsize 0\n",
      "2020-03-26 10:49:05,780 - gensim.models.base_any2vec - INFO - worker thread finished; awaiting finish of 2 more threads\n",
      "2020-03-26 10:49:05,782 - gensim.models.base_any2vec - INFO - worker thread finished; awaiting finish of 1 more threads\n",
      "2020-03-26 10:49:05,784 - gensim.models.base_any2vec - INFO - worker thread finished; awaiting finish of 0 more threads\n",
      "2020-03-26 10:49:05,784 - gensim.models.base_any2vec - INFO - EPOCH - 5 : training on 11265309 raw words (10553759 effective words) took 12.9s, 815097 effective words/s\n",
      "2020-03-26 10:49:06,810 - gensim.models.base_any2vec - INFO - EPOCH 6 - PROGRESS: at 5.83% examples, 805984 words/s, in_qsize 5, out_qsize 0\n",
      "2020-03-26 10:49:18,419 - gensim.models.base_any2vec - INFO - worker thread finished; awaiting finish of 2 more threads\n",
      "2020-03-26 10:49:18,428 - gensim.models.base_any2vec - INFO - worker thread finished; awaiting finish of 1 more threads\n",
      "2020-03-26 10:49:18,428 - gensim.models.base_any2vec - INFO - worker thread finished; awaiting finish of 0 more threads\n",
      "2020-03-26 10:49:18,429 - gensim.models.base_any2vec - INFO - EPOCH - 6 : training on 11265309 raw words (10554590 effective words) took 12.6s, 834875 effective words/s\n",
      "2020-03-26 10:49:19,435 - gensim.models.base_any2vec - INFO - EPOCH 7 - PROGRESS: at 5.83% examples, 821096 words/s, in_qsize 5, out_qsize 0\n",
      "2020-03-26 10:49:30,646 - gensim.models.base_any2vec - INFO - worker thread finished; awaiting finish of 2 more threads\n",
      "2020-03-26 10:49:30,655 - gensim.models.base_any2vec - INFO - worker thread finished; awaiting finish of 1 more threads\n",
      "2020-03-26 10:49:30,662 - gensim.models.base_any2vec - INFO - worker thread finished; awaiting finish of 0 more threads\n",
      "2020-03-26 10:49:30,662 - gensim.models.base_any2vec - INFO - EPOCH - 7 : training on 11265309 raw words (10553914 effective words) took 12.2s, 862815 effective words/s\n",
      "2020-03-26 10:49:31,669 - gensim.models.base_any2vec - INFO - EPOCH 8 - PROGRESS: at 6.02% examples, 847606 words/s, in_qsize 5, out_qsize 0\n",
      "2020-03-26 10:49:42,906 - gensim.models.base_any2vec - INFO - worker thread finished; awaiting finish of 2 more threads\n",
      "2020-03-26 10:49:42,914 - gensim.models.base_any2vec - INFO - worker thread finished; awaiting finish of 1 more threads\n",
      "2020-03-26 10:49:42,918 - gensim.models.base_any2vec - INFO - worker thread finished; awaiting finish of 0 more threads\n",
      "2020-03-26 10:49:42,919 - gensim.models.base_any2vec - INFO - EPOCH - 8 : training on 11265309 raw words (10554238 effective words) took 12.3s, 861297 effective words/s\n",
      "2020-03-26 10:49:43,923 - gensim.models.base_any2vec - INFO - EPOCH 9 - PROGRESS: at 6.02% examples, 850068 words/s, in_qsize 5, out_qsize 0\n",
      "2020-03-26 10:49:55,013 - gensim.models.base_any2vec - INFO - worker thread finished; awaiting finish of 2 more threads\n",
      "2020-03-26 10:49:55,020 - gensim.models.base_any2vec - INFO - worker thread finished; awaiting finish of 1 more threads\n",
      "2020-03-26 10:49:55,021 - gensim.models.base_any2vec - INFO - worker thread finished; awaiting finish of 0 more threads\n",
      "2020-03-26 10:49:55,022 - gensim.models.base_any2vec - INFO - EPOCH - 9 : training on 11265309 raw words (10553736 effective words) took 12.1s, 872148 effective words/s\n",
      "2020-03-26 10:49:56,026 - gensim.models.base_any2vec - INFO - EPOCH 10 - PROGRESS: at 6.14% examples, 867388 words/s, in_qsize 5, out_qsize 0\n",
      "2020-03-26 10:50:07,588 - gensim.models.base_any2vec - INFO - worker thread finished; awaiting finish of 2 more threads\n",
      "2020-03-26 10:50:07,590 - gensim.models.base_any2vec - INFO - worker thread finished; awaiting finish of 1 more threads\n",
      "2020-03-26 10:50:07,596 - gensim.models.base_any2vec - INFO - worker thread finished; awaiting finish of 0 more threads\n",
      "2020-03-26 10:50:07,597 - gensim.models.base_any2vec - INFO - EPOCH - 10 : training on 11265309 raw words (10553844 effective words) took 12.6s, 839396 effective words/s\n",
      "2020-03-26 10:50:08,619 - gensim.models.base_any2vec - INFO - EPOCH 11 - PROGRESS: at 5.32% examples, 733122 words/s, in_qsize 5, out_qsize 0\n",
      "2020-03-26 10:50:19,996 - gensim.models.base_any2vec - INFO - worker thread finished; awaiting finish of 2 more threads\n",
      "2020-03-26 10:50:20,000 - gensim.models.base_any2vec - INFO - worker thread finished; awaiting finish of 1 more threads\n",
      "2020-03-26 10:50:20,005 - gensim.models.base_any2vec - INFO - worker thread finished; awaiting finish of 0 more threads\n",
      "2020-03-26 10:50:20,005 - gensim.models.base_any2vec - INFO - EPOCH - 11 : training on 11265309 raw words (10554159 effective words) took 12.4s, 850658 effective words/s\n",
      "2020-03-26 10:50:21,022 - gensim.models.base_any2vec - INFO - EPOCH 12 - PROGRESS: at 3.60% examples, 494763 words/s, in_qsize 5, out_qsize 0\n",
      "2020-03-26 10:50:34,183 - gensim.models.base_any2vec - INFO - worker thread finished; awaiting finish of 2 more threads\n",
      "2020-03-26 10:50:34,189 - gensim.models.base_any2vec - INFO - worker thread finished; awaiting finish of 1 more threads\n",
      "2020-03-26 10:50:34,191 - gensim.models.base_any2vec - INFO - worker thread finished; awaiting finish of 0 more threads\n",
      "2020-03-26 10:50:34,192 - gensim.models.base_any2vec - INFO - EPOCH - 12 : training on 11265309 raw words (10553140 effective words) took 14.2s, 744166 effective words/s\n"
     ]
    },
    {
     "name": "stdout",
     "output_type": "stream",
     "text": [
      "2020-03-26 10:50:35,195 - gensim.models.base_any2vec - INFO - EPOCH 13 - PROGRESS: at 6.19% examples, 875788 words/s, in_qsize 5, out_qsize 0\n",
      "2020-03-26 10:50:46,162 - gensim.models.base_any2vec - INFO - worker thread finished; awaiting finish of 2 more threads\n",
      "2020-03-26 10:50:46,163 - gensim.models.base_any2vec - INFO - worker thread finished; awaiting finish of 1 more threads\n",
      "2020-03-26 10:50:46,172 - gensim.models.base_any2vec - INFO - worker thread finished; awaiting finish of 0 more threads\n",
      "2020-03-26 10:50:46,173 - gensim.models.base_any2vec - INFO - EPOCH - 13 : training on 11265309 raw words (10554306 effective words) took 12.0s, 881061 effective words/s\n",
      "2020-03-26 10:50:47,181 - gensim.models.base_any2vec - INFO - EPOCH 14 - PROGRESS: at 6.19% examples, 871709 words/s, in_qsize 5, out_qsize 0\n",
      "2020-03-26 10:51:00,323 - gensim.models.base_any2vec - INFO - worker thread finished; awaiting finish of 2 more threads\n",
      "2020-03-26 10:51:00,324 - gensim.models.base_any2vec - INFO - worker thread finished; awaiting finish of 1 more threads\n",
      "2020-03-26 10:51:00,325 - gensim.models.base_any2vec - INFO - worker thread finished; awaiting finish of 0 more threads\n",
      "2020-03-26 10:51:00,325 - gensim.models.base_any2vec - INFO - EPOCH - 14 : training on 11265309 raw words (10554432 effective words) took 14.2s, 745880 effective words/s\n",
      "2020-03-26 10:51:01,333 - gensim.models.base_any2vec - INFO - EPOCH 15 - PROGRESS: at 6.02% examples, 846641 words/s, in_qsize 5, out_qsize 0\n",
      "2020-03-26 10:51:12,496 - gensim.models.base_any2vec - INFO - worker thread finished; awaiting finish of 2 more threads\n",
      "2020-03-26 10:51:12,496 - gensim.models.base_any2vec - INFO - worker thread finished; awaiting finish of 1 more threads\n",
      "2020-03-26 10:51:12,506 - gensim.models.base_any2vec - INFO - worker thread finished; awaiting finish of 0 more threads\n",
      "2020-03-26 10:51:12,507 - gensim.models.base_any2vec - INFO - EPOCH - 15 : training on 11265309 raw words (10553565 effective words) took 12.2s, 866487 effective words/s\n",
      "2020-03-26 10:51:13,511 - gensim.models.base_any2vec - INFO - EPOCH 16 - PROGRESS: at 6.31% examples, 891248 words/s, in_qsize 5, out_qsize 0\n",
      "2020-03-26 10:51:25,615 - gensim.models.base_any2vec - INFO - worker thread finished; awaiting finish of 2 more threads\n",
      "2020-03-26 10:51:25,616 - gensim.models.base_any2vec - INFO - worker thread finished; awaiting finish of 1 more threads\n",
      "2020-03-26 10:51:25,624 - gensim.models.base_any2vec - INFO - worker thread finished; awaiting finish of 0 more threads\n",
      "2020-03-26 10:51:25,625 - gensim.models.base_any2vec - INFO - EPOCH - 16 : training on 11265309 raw words (10553166 effective words) took 13.1s, 804580 effective words/s\n",
      "2020-03-26 10:51:26,629 - gensim.models.base_any2vec - INFO - EPOCH 17 - PROGRESS: at 6.19% examples, 875202 words/s, in_qsize 5, out_qsize 0\n",
      "2020-03-26 10:51:38,020 - gensim.models.base_any2vec - INFO - worker thread finished; awaiting finish of 2 more threads\n",
      "2020-03-26 10:51:38,026 - gensim.models.base_any2vec - INFO - worker thread finished; awaiting finish of 1 more threads\n",
      "2020-03-26 10:51:38,028 - gensim.models.base_any2vec - INFO - worker thread finished; awaiting finish of 0 more threads\n",
      "2020-03-26 10:51:38,029 - gensim.models.base_any2vec - INFO - EPOCH - 17 : training on 11265309 raw words (10553630 effective words) took 12.4s, 850966 effective words/s\n",
      "2020-03-26 10:51:39,032 - gensim.models.base_any2vec - INFO - EPOCH 18 - PROGRESS: at 5.32% examples, 746429 words/s, in_qsize 5, out_qsize 0\n",
      "2020-03-26 10:51:50,162 - gensim.models.base_any2vec - INFO - worker thread finished; awaiting finish of 2 more threads\n",
      "2020-03-26 10:51:50,164 - gensim.models.base_any2vec - INFO - worker thread finished; awaiting finish of 1 more threads\n",
      "2020-03-26 10:51:50,179 - gensim.models.base_any2vec - INFO - worker thread finished; awaiting finish of 0 more threads\n",
      "2020-03-26 10:51:50,179 - gensim.models.base_any2vec - INFO - EPOCH - 18 : training on 11265309 raw words (10554109 effective words) took 12.1s, 868754 effective words/s\n",
      "2020-03-26 10:51:51,190 - gensim.models.base_any2vec - INFO - EPOCH 19 - PROGRESS: at 6.19% examples, 868952 words/s, in_qsize 5, out_qsize 0\n",
      "2020-03-26 10:52:03,154 - gensim.models.base_any2vec - INFO - worker thread finished; awaiting finish of 2 more threads\n",
      "2020-03-26 10:52:03,154 - gensim.models.base_any2vec - INFO - worker thread finished; awaiting finish of 1 more threads\n",
      "2020-03-26 10:52:03,162 - gensim.models.base_any2vec - INFO - worker thread finished; awaiting finish of 0 more threads\n",
      "2020-03-26 10:52:03,163 - gensim.models.base_any2vec - INFO - EPOCH - 19 : training on 11265309 raw words (10553418 effective words) took 13.0s, 812936 effective words/s\n",
      "2020-03-26 10:52:04,175 - gensim.models.base_any2vec - INFO - EPOCH 20 - PROGRESS: at 6.19% examples, 868681 words/s, in_qsize 5, out_qsize 0\n",
      "2020-03-26 10:52:16,207 - gensim.models.base_any2vec - INFO - worker thread finished; awaiting finish of 2 more threads\n",
      "2020-03-26 10:52:16,208 - gensim.models.base_any2vec - INFO - worker thread finished; awaiting finish of 1 more threads\n",
      "2020-03-26 10:52:16,216 - gensim.models.base_any2vec - INFO - worker thread finished; awaiting finish of 0 more threads\n",
      "2020-03-26 10:52:16,217 - gensim.models.base_any2vec - INFO - EPOCH - 20 : training on 11265309 raw words (10553454 effective words) took 13.1s, 808595 effective words/s\n",
      "2020-03-26 10:52:17,222 - gensim.models.base_any2vec - INFO - EPOCH 21 - PROGRESS: at 6.19% examples, 874626 words/s, in_qsize 5, out_qsize 0\n",
      "2020-03-26 10:52:28,098 - gensim.models.base_any2vec - INFO - worker thread finished; awaiting finish of 2 more threads\n",
      "2020-03-26 10:52:28,100 - gensim.models.base_any2vec - INFO - worker thread finished; awaiting finish of 1 more threads\n",
      "2020-03-26 10:52:28,104 - gensim.models.base_any2vec - INFO - worker thread finished; awaiting finish of 0 more threads\n",
      "2020-03-26 10:52:28,105 - gensim.models.base_any2vec - INFO - EPOCH - 21 : training on 11265309 raw words (10553687 effective words) took 11.9s, 887896 effective words/s\n",
      "2020-03-26 10:52:29,111 - gensim.models.base_any2vec - INFO - EPOCH 22 - PROGRESS: at 6.19% examples, 873394 words/s, in_qsize 5, out_qsize 0\n",
      "2020-03-26 10:52:43,316 - gensim.models.base_any2vec - INFO - worker thread finished; awaiting finish of 2 more threads\n",
      "2020-03-26 10:52:43,317 - gensim.models.base_any2vec - INFO - worker thread finished; awaiting finish of 1 more threads\n",
      "2020-03-26 10:52:43,326 - gensim.models.base_any2vec - INFO - worker thread finished; awaiting finish of 0 more threads\n",
      "2020-03-26 10:52:43,326 - gensim.models.base_any2vec - INFO - EPOCH - 22 : training on 11265309 raw words (10552345 effective words) took 15.2s, 693351 effective words/s\n",
      "2020-03-26 10:52:44,343 - gensim.models.base_any2vec - INFO - EPOCH 23 - PROGRESS: at 6.19% examples, 864474 words/s, in_qsize 6, out_qsize 0\n",
      "2020-03-26 10:52:55,395 - gensim.models.base_any2vec - INFO - worker thread finished; awaiting finish of 2 more threads\n",
      "2020-03-26 10:52:55,399 - gensim.models.base_any2vec - INFO - worker thread finished; awaiting finish of 1 more threads\n",
      "2020-03-26 10:52:55,407 - gensim.models.base_any2vec - INFO - worker thread finished; awaiting finish of 0 more threads\n",
      "2020-03-26 10:52:55,408 - gensim.models.base_any2vec - INFO - EPOCH - 23 : training on 11265309 raw words (10553052 effective words) took 12.1s, 873664 effective words/s\n",
      "2020-03-26 10:52:56,415 - gensim.models.base_any2vec - INFO - EPOCH 24 - PROGRESS: at 5.32% examples, 744766 words/s, in_qsize 6, out_qsize 0\n",
      "2020-03-26 10:53:09,850 - gensim.models.base_any2vec - INFO - worker thread finished; awaiting finish of 2 more threads\n",
      "2020-03-26 10:53:09,853 - gensim.models.base_any2vec - INFO - worker thread finished; awaiting finish of 1 more threads\n",
      "2020-03-26 10:53:09,854 - gensim.models.base_any2vec - INFO - worker thread finished; awaiting finish of 0 more threads\n",
      "2020-03-26 10:53:09,855 - gensim.models.base_any2vec - INFO - EPOCH - 24 : training on 11265309 raw words (10553678 effective words) took 14.4s, 730667 effective words/s\n",
      "2020-03-26 10:53:10,862 - gensim.models.base_any2vec - INFO - EPOCH 25 - PROGRESS: at 6.31% examples, 889058 words/s, in_qsize 5, out_qsize 0\n"
     ]
    },
    {
     "name": "stdout",
     "output_type": "stream",
     "text": [
      "2020-03-26 10:53:24,389 - gensim.models.base_any2vec - INFO - worker thread finished; awaiting finish of 2 more threads\n",
      "2020-03-26 10:53:24,390 - gensim.models.base_any2vec - INFO - worker thread finished; awaiting finish of 1 more threads\n",
      "2020-03-26 10:53:24,394 - gensim.models.base_any2vec - INFO - worker thread finished; awaiting finish of 0 more threads\n",
      "2020-03-26 10:53:24,394 - gensim.models.base_any2vec - INFO - EPOCH - 25 : training on 11265309 raw words (10551851 effective words) took 14.5s, 725846 effective words/s\n",
      "2020-03-26 10:53:25,401 - gensim.models.base_any2vec - INFO - EPOCH 26 - PROGRESS: at 6.19% examples, 873160 words/s, in_qsize 5, out_qsize 0\n",
      "2020-03-26 10:53:36,615 - gensim.models.base_any2vec - INFO - worker thread finished; awaiting finish of 2 more threads\n",
      "2020-03-26 10:53:36,619 - gensim.models.base_any2vec - INFO - worker thread finished; awaiting finish of 1 more threads\n",
      "2020-03-26 10:53:36,620 - gensim.models.base_any2vec - INFO - worker thread finished; awaiting finish of 0 more threads\n",
      "2020-03-26 10:53:36,620 - gensim.models.base_any2vec - INFO - EPOCH - 26 : training on 11265309 raw words (10555634 effective words) took 12.2s, 863546 effective words/s\n",
      "2020-03-26 10:53:37,639 - gensim.models.base_any2vec - INFO - EPOCH 27 - PROGRESS: at 6.19% examples, 862862 words/s, in_qsize 5, out_qsize 0\n",
      "2020-03-26 10:53:52,093 - gensim.models.base_any2vec - INFO - worker thread finished; awaiting finish of 2 more threads\n",
      "2020-03-26 10:53:52,107 - gensim.models.base_any2vec - INFO - worker thread finished; awaiting finish of 1 more threads\n",
      "2020-03-26 10:53:52,118 - gensim.models.base_any2vec - INFO - worker thread finished; awaiting finish of 0 more threads\n",
      "2020-03-26 10:53:52,118 - gensim.models.base_any2vec - INFO - EPOCH - 27 : training on 11265309 raw words (10552946 effective words) took 15.5s, 681017 effective words/s\n",
      "2020-03-26 10:53:53,123 - gensim.models.base_any2vec - INFO - EPOCH 28 - PROGRESS: at 6.21% examples, 875592 words/s, in_qsize 5, out_qsize 0\n",
      "2020-03-26 10:54:04,145 - gensim.models.base_any2vec - INFO - worker thread finished; awaiting finish of 2 more threads\n",
      "2020-03-26 10:54:04,153 - gensim.models.base_any2vec - INFO - worker thread finished; awaiting finish of 1 more threads\n",
      "2020-03-26 10:54:04,155 - gensim.models.base_any2vec - INFO - worker thread finished; awaiting finish of 0 more threads\n",
      "2020-03-26 10:54:04,155 - gensim.models.base_any2vec - INFO - EPOCH - 28 : training on 11265309 raw words (10554360 effective words) took 12.0s, 876960 effective words/s\n",
      "2020-03-26 10:54:05,161 - gensim.models.base_any2vec - INFO - EPOCH 29 - PROGRESS: at 6.31% examples, 890353 words/s, in_qsize 5, out_qsize 0\n",
      "2020-03-26 10:54:17,142 - gensim.models.base_any2vec - INFO - worker thread finished; awaiting finish of 2 more threads\n",
      "2020-03-26 10:54:17,148 - gensim.models.base_any2vec - INFO - worker thread finished; awaiting finish of 1 more threads\n",
      "2020-03-26 10:54:17,151 - gensim.models.base_any2vec - INFO - worker thread finished; awaiting finish of 0 more threads\n",
      "2020-03-26 10:54:17,151 - gensim.models.base_any2vec - INFO - EPOCH - 29 : training on 11265309 raw words (10553438 effective words) took 13.0s, 812235 effective words/s\n",
      "2020-03-26 10:54:18,163 - gensim.models.base_any2vec - INFO - EPOCH 30 - PROGRESS: at 6.19% examples, 868750 words/s, in_qsize 5, out_qsize 0\n",
      "2020-03-26 10:54:29,060 - gensim.models.base_any2vec - INFO - worker thread finished; awaiting finish of 2 more threads\n",
      "2020-03-26 10:54:29,070 - gensim.models.base_any2vec - INFO - worker thread finished; awaiting finish of 1 more threads\n",
      "2020-03-26 10:54:29,078 - gensim.models.base_any2vec - INFO - worker thread finished; awaiting finish of 0 more threads\n",
      "2020-03-26 10:54:29,079 - gensim.models.base_any2vec - INFO - EPOCH - 30 : training on 11265309 raw words (10553795 effective words) took 11.9s, 885014 effective words/s\n",
      "2020-03-26 10:54:30,101 - gensim.models.base_any2vec - INFO - EPOCH 31 - PROGRESS: at 6.37% examples, 883629 words/s, in_qsize 5, out_qsize 0\n",
      "2020-03-26 10:54:43,201 - gensim.models.base_any2vec - INFO - worker thread finished; awaiting finish of 2 more threads\n",
      "2020-03-26 10:54:43,207 - gensim.models.base_any2vec - INFO - worker thread finished; awaiting finish of 1 more threads\n",
      "2020-03-26 10:54:43,212 - gensim.models.base_any2vec - INFO - worker thread finished; awaiting finish of 0 more threads\n",
      "2020-03-26 10:54:43,212 - gensim.models.base_any2vec - INFO - EPOCH - 31 : training on 11265309 raw words (10553585 effective words) took 14.1s, 746844 effective words/s\n",
      "2020-03-26 10:54:44,234 - gensim.models.base_any2vec - INFO - EPOCH 32 - PROGRESS: at 6.19% examples, 861839 words/s, in_qsize 5, out_qsize 0\n",
      "2020-03-26 10:54:55,177 - gensim.models.base_any2vec - INFO - worker thread finished; awaiting finish of 2 more threads\n",
      "2020-03-26 10:54:55,180 - gensim.models.base_any2vec - INFO - worker thread finished; awaiting finish of 1 more threads\n",
      "2020-03-26 10:54:55,181 - gensim.models.base_any2vec - INFO - worker thread finished; awaiting finish of 0 more threads\n",
      "2020-03-26 10:54:55,182 - gensim.models.base_any2vec - INFO - EPOCH - 32 : training on 11265309 raw words (10553767 effective words) took 12.0s, 882001 effective words/s\n",
      "2020-03-26 10:54:56,196 - gensim.models.base_any2vec - INFO - EPOCH 33 - PROGRESS: at 6.19% examples, 865871 words/s, in_qsize 5, out_qsize 0\n",
      "2020-03-26 10:55:10,415 - gensim.models.base_any2vec - INFO - worker thread finished; awaiting finish of 2 more threads\n",
      "2020-03-26 10:55:10,415 - gensim.models.base_any2vec - INFO - worker thread finished; awaiting finish of 1 more threads\n",
      "2020-03-26 10:55:10,427 - gensim.models.base_any2vec - INFO - worker thread finished; awaiting finish of 0 more threads\n",
      "2020-03-26 10:55:10,428 - gensim.models.base_any2vec - INFO - EPOCH - 33 : training on 11265309 raw words (10555034 effective words) took 15.2s, 692416 effective words/s\n",
      "2020-03-26 10:55:11,436 - gensim.models.base_any2vec - INFO - EPOCH 34 - PROGRESS: at 6.19% examples, 871368 words/s, in_qsize 5, out_qsize 0\n",
      "2020-03-26 10:55:24,556 - gensim.models.base_any2vec - INFO - worker thread finished; awaiting finish of 2 more threads\n",
      "2020-03-26 10:55:24,557 - gensim.models.base_any2vec - INFO - worker thread finished; awaiting finish of 1 more threads\n",
      "2020-03-26 10:55:24,568 - gensim.models.base_any2vec - INFO - worker thread finished; awaiting finish of 0 more threads\n",
      "2020-03-26 10:55:24,568 - gensim.models.base_any2vec - INFO - EPOCH - 34 : training on 11265309 raw words (10554151 effective words) took 14.1s, 746476 effective words/s\n",
      "2020-03-26 10:55:25,581 - gensim.models.base_any2vec - INFO - EPOCH 35 - PROGRESS: at 6.19% examples, 867568 words/s, in_qsize 5, out_qsize 0\n",
      "2020-03-26 10:55:36,537 - gensim.models.base_any2vec - INFO - worker thread finished; awaiting finish of 2 more threads\n",
      "2020-03-26 10:55:36,543 - gensim.models.base_any2vec - INFO - worker thread finished; awaiting finish of 1 more threads\n",
      "2020-03-26 10:55:36,546 - gensim.models.base_any2vec - INFO - worker thread finished; awaiting finish of 0 more threads\n",
      "2020-03-26 10:55:36,546 - gensim.models.base_any2vec - INFO - EPOCH - 35 : training on 11265309 raw words (10554253 effective words) took 12.0s, 881271 effective words/s\n",
      "2020-03-26 10:55:37,595 - gensim.models.base_any2vec - INFO - EPOCH 36 - PROGRESS: at 5.01% examples, 671944 words/s, in_qsize 5, out_qsize 0\n",
      "2020-03-26 10:55:50,022 - gensim.models.base_any2vec - INFO - worker thread finished; awaiting finish of 2 more threads\n",
      "2020-03-26 10:55:50,023 - gensim.models.base_any2vec - INFO - worker thread finished; awaiting finish of 1 more threads\n",
      "2020-03-26 10:55:50,026 - gensim.models.base_any2vec - INFO - worker thread finished; awaiting finish of 0 more threads\n",
      "2020-03-26 10:55:50,027 - gensim.models.base_any2vec - INFO - EPOCH - 36 : training on 11265309 raw words (10553931 effective words) took 13.5s, 783102 effective words/s\n",
      "2020-03-26 10:55:51,039 - gensim.models.base_any2vec - INFO - EPOCH 37 - PROGRESS: at 6.37% examples, 891754 words/s, in_qsize 5, out_qsize 0\n",
      "2020-03-26 10:56:06,234 - gensim.models.base_any2vec - INFO - worker thread finished; awaiting finish of 2 more threads\n",
      "2020-03-26 10:56:06,235 - gensim.models.base_any2vec - INFO - worker thread finished; awaiting finish of 1 more threads\n"
     ]
    },
    {
     "name": "stdout",
     "output_type": "stream",
     "text": [
      "2020-03-26 10:56:06,238 - gensim.models.base_any2vec - INFO - worker thread finished; awaiting finish of 0 more threads\n",
      "2020-03-26 10:56:06,238 - gensim.models.base_any2vec - INFO - EPOCH - 37 : training on 11265309 raw words (10553388 effective words) took 16.2s, 651074 effective words/s\n",
      "2020-03-26 10:56:07,286 - gensim.models.base_any2vec - INFO - EPOCH 38 - PROGRESS: at 6.02% examples, 813787 words/s, in_qsize 5, out_qsize 0\n",
      "2020-03-26 10:56:22,572 - gensim.models.base_any2vec - INFO - worker thread finished; awaiting finish of 2 more threads\n",
      "2020-03-26 10:56:22,574 - gensim.models.base_any2vec - INFO - worker thread finished; awaiting finish of 1 more threads\n",
      "2020-03-26 10:56:22,582 - gensim.models.base_any2vec - INFO - worker thread finished; awaiting finish of 0 more threads\n",
      "2020-03-26 10:56:22,582 - gensim.models.base_any2vec - INFO - EPOCH - 38 : training on 11265309 raw words (10554274 effective words) took 16.3s, 645827 effective words/s\n",
      "2020-03-26 10:56:23,588 - gensim.models.base_any2vec - INFO - EPOCH 39 - PROGRESS: at 6.19% examples, 873734 words/s, in_qsize 5, out_qsize 0\n",
      "2020-03-26 10:56:37,827 - gensim.models.base_any2vec - INFO - worker thread finished; awaiting finish of 2 more threads\n",
      "2020-03-26 10:56:37,831 - gensim.models.base_any2vec - INFO - worker thread finished; awaiting finish of 1 more threads\n",
      "2020-03-26 10:56:37,832 - gensim.models.base_any2vec - INFO - worker thread finished; awaiting finish of 0 more threads\n",
      "2020-03-26 10:56:37,832 - gensim.models.base_any2vec - INFO - EPOCH - 39 : training on 11265309 raw words (10553058 effective words) took 15.2s, 692068 effective words/s\n",
      "2020-03-26 10:56:38,902 - gensim.models.base_any2vec - INFO - EPOCH 40 - PROGRESS: at 6.02% examples, 799574 words/s, in_qsize 5, out_qsize 0\n",
      "2020-03-26 10:56:50,816 - gensim.models.base_any2vec - INFO - worker thread finished; awaiting finish of 2 more threads\n",
      "2020-03-26 10:56:50,821 - gensim.models.base_any2vec - INFO - worker thread finished; awaiting finish of 1 more threads\n",
      "2020-03-26 10:56:50,828 - gensim.models.base_any2vec - INFO - worker thread finished; awaiting finish of 0 more threads\n",
      "2020-03-26 10:56:50,828 - gensim.models.base_any2vec - INFO - EPOCH - 40 : training on 11265309 raw words (10554699 effective words) took 13.0s, 812398 effective words/s\n",
      "2020-03-26 10:56:51,843 - gensim.models.base_any2vec - INFO - EPOCH 41 - PROGRESS: at 6.37% examples, 890081 words/s, in_qsize 5, out_qsize 0\n",
      "2020-03-26 10:57:05,982 - gensim.models.base_any2vec - INFO - worker thread finished; awaiting finish of 2 more threads\n",
      "2020-03-26 10:57:05,984 - gensim.models.base_any2vec - INFO - worker thread finished; awaiting finish of 1 more threads\n",
      "2020-03-26 10:57:05,994 - gensim.models.base_any2vec - INFO - worker thread finished; awaiting finish of 0 more threads\n",
      "2020-03-26 10:57:05,995 - gensim.models.base_any2vec - INFO - EPOCH - 41 : training on 11265309 raw words (10553552 effective words) took 15.2s, 695968 effective words/s\n",
      "2020-03-26 10:57:07,006 - gensim.models.base_any2vec - INFO - EPOCH 42 - PROGRESS: at 6.37% examples, 892840 words/s, in_qsize 6, out_qsize 0\n",
      "2020-03-26 10:57:20,050 - gensim.models.base_any2vec - INFO - worker thread finished; awaiting finish of 2 more threads\n",
      "2020-03-26 10:57:20,056 - gensim.models.base_any2vec - INFO - worker thread finished; awaiting finish of 1 more threads\n",
      "2020-03-26 10:57:20,065 - gensim.models.base_any2vec - INFO - worker thread finished; awaiting finish of 0 more threads\n",
      "2020-03-26 10:57:20,066 - gensim.models.base_any2vec - INFO - EPOCH - 42 : training on 11265309 raw words (10552670 effective words) took 14.1s, 750018 effective words/s\n",
      "2020-03-26 10:57:21,084 - gensim.models.base_any2vec - INFO - EPOCH 43 - PROGRESS: at 6.19% examples, 863420 words/s, in_qsize 6, out_qsize 0\n",
      "2020-03-26 10:57:31,972 - gensim.models.base_any2vec - INFO - worker thread finished; awaiting finish of 2 more threads\n",
      "2020-03-26 10:57:31,980 - gensim.models.base_any2vec - INFO - worker thread finished; awaiting finish of 1 more threads\n",
      "2020-03-26 10:57:31,987 - gensim.models.base_any2vec - INFO - worker thread finished; awaiting finish of 0 more threads\n",
      "2020-03-26 10:57:31,988 - gensim.models.base_any2vec - INFO - EPOCH - 43 : training on 11265309 raw words (10554135 effective words) took 11.9s, 885445 effective words/s\n",
      "2020-03-26 10:57:32,989 - gensim.models.base_any2vec - INFO - EPOCH 44 - PROGRESS: at 6.19% examples, 876739 words/s, in_qsize 5, out_qsize 0\n",
      "2020-03-26 10:57:46,007 - gensim.models.base_any2vec - INFO - worker thread finished; awaiting finish of 2 more threads\n",
      "2020-03-26 10:57:46,014 - gensim.models.base_any2vec - INFO - worker thread finished; awaiting finish of 1 more threads\n",
      "2020-03-26 10:57:46,018 - gensim.models.base_any2vec - INFO - worker thread finished; awaiting finish of 0 more threads\n",
      "2020-03-26 10:57:46,018 - gensim.models.base_any2vec - INFO - EPOCH - 44 : training on 11265309 raw words (10553247 effective words) took 14.0s, 752236 effective words/s\n",
      "2020-03-26 10:57:47,026 - gensim.models.base_any2vec - INFO - EPOCH 45 - PROGRESS: at 6.31% examples, 888761 words/s, in_qsize 6, out_qsize 0\n",
      "2020-03-26 10:58:01,230 - gensim.models.base_any2vec - INFO - worker thread finished; awaiting finish of 2 more threads\n",
      "2020-03-26 10:58:01,231 - gensim.models.base_any2vec - INFO - worker thread finished; awaiting finish of 1 more threads\n",
      "2020-03-26 10:58:01,233 - gensim.models.base_any2vec - INFO - worker thread finished; awaiting finish of 0 more threads\n",
      "2020-03-26 10:58:01,234 - gensim.models.base_any2vec - INFO - EPOCH - 45 : training on 11265309 raw words (10553634 effective words) took 15.2s, 693723 effective words/s\n",
      "2020-03-26 10:58:02,240 - gensim.models.base_any2vec - INFO - EPOCH 46 - PROGRESS: at 6.19% examples, 873287 words/s, in_qsize 5, out_qsize 0\n",
      "2020-03-26 10:58:14,241 - gensim.models.base_any2vec - INFO - worker thread finished; awaiting finish of 2 more threads\n",
      "2020-03-26 10:58:14,242 - gensim.models.base_any2vec - INFO - worker thread finished; awaiting finish of 1 more threads\n",
      "2020-03-26 10:58:14,252 - gensim.models.base_any2vec - INFO - worker thread finished; awaiting finish of 0 more threads\n",
      "2020-03-26 10:58:14,253 - gensim.models.base_any2vec - INFO - EPOCH - 46 : training on 11265309 raw words (10553607 effective words) took 13.0s, 810734 effective words/s\n",
      "2020-03-26 10:58:15,267 - gensim.models.base_any2vec - INFO - EPOCH 47 - PROGRESS: at 6.37% examples, 890424 words/s, in_qsize 5, out_qsize 0\n",
      "2020-03-26 10:58:30,453 - gensim.models.base_any2vec - INFO - worker thread finished; awaiting finish of 2 more threads\n",
      "2020-03-26 10:58:30,460 - gensim.models.base_any2vec - INFO - worker thread finished; awaiting finish of 1 more threads\n",
      "2020-03-26 10:58:30,461 - gensim.models.base_any2vec - INFO - worker thread finished; awaiting finish of 0 more threads\n",
      "2020-03-26 10:58:30,462 - gensim.models.base_any2vec - INFO - EPOCH - 47 : training on 11265309 raw words (10553817 effective words) took 16.2s, 651208 effective words/s\n",
      "2020-03-26 10:58:31,468 - gensim.models.base_any2vec - INFO - EPOCH 48 - PROGRESS: at 6.31% examples, 888654 words/s, in_qsize 5, out_qsize 0\n",
      "2020-03-26 10:58:42,238 - gensim.models.base_any2vec - INFO - worker thread finished; awaiting finish of 2 more threads\n",
      "2020-03-26 10:58:42,244 - gensim.models.base_any2vec - INFO - worker thread finished; awaiting finish of 1 more threads\n",
      "2020-03-26 10:58:42,245 - gensim.models.base_any2vec - INFO - worker thread finished; awaiting finish of 0 more threads\n",
      "2020-03-26 10:58:42,245 - gensim.models.base_any2vec - INFO - EPOCH - 48 : training on 11265309 raw words (10552966 effective words) took 11.8s, 895698 effective words/s\n",
      "2020-03-26 10:58:43,260 - gensim.models.base_any2vec - INFO - EPOCH 49 - PROGRESS: at 5.43% examples, 756154 words/s, in_qsize 5, out_qsize 0\n",
      "2020-03-26 10:58:59,752 - gensim.models.base_any2vec - INFO - worker thread finished; awaiting finish of 2 more threads\n",
      "2020-03-26 10:58:59,757 - gensim.models.base_any2vec - INFO - worker thread finished; awaiting finish of 1 more threads\n",
      "2020-03-26 10:58:59,761 - gensim.models.base_any2vec - INFO - worker thread finished; awaiting finish of 0 more threads\n",
      "2020-03-26 10:58:59,762 - gensim.models.base_any2vec - INFO - EPOCH - 49 : training on 11265309 raw words (10554481 effective words) took 17.5s, 602616 effective words/s\n"
     ]
    },
    {
     "name": "stdout",
     "output_type": "stream",
     "text": [
      "2020-03-26 10:59:00,768 - gensim.models.base_any2vec - INFO - EPOCH 50 - PROGRESS: at 6.37% examples, 896942 words/s, in_qsize 5, out_qsize 0\n",
      "2020-03-26 10:59:14,899 - gensim.models.base_any2vec - INFO - worker thread finished; awaiting finish of 2 more threads\n",
      "2020-03-26 10:59:14,900 - gensim.models.base_any2vec - INFO - worker thread finished; awaiting finish of 1 more threads\n",
      "2020-03-26 10:59:14,902 - gensim.models.base_any2vec - INFO - worker thread finished; awaiting finish of 0 more threads\n",
      "2020-03-26 10:59:14,902 - gensim.models.base_any2vec - INFO - EPOCH - 50 : training on 11265309 raw words (10554208 effective words) took 15.1s, 697159 effective words/s\n",
      "2020-03-26 10:59:14,903 - gensim.models.base_any2vec - INFO - training on a 563265450 raw words (527688864 effective words) took 671.9s, 785314 effective words/s\n"
     ]
    }
   ],
   "source": [
    "model.train(corpus, total_examples=model.corpus_count, epochs=model.epochs, report_delay=60.0)"
   ]
  },
  {
   "cell_type": "code",
   "execution_count": 12,
   "metadata": {},
   "outputs": [],
   "source": [
    "import pickle"
   ]
  },
  {
   "cell_type": "code",
   "execution_count": 9,
   "metadata": {},
   "outputs": [],
   "source": [
    "pickle.dump(model, open('model_doc2vec.pkl', \"wb\"))"
   ]
  },
  {
   "cell_type": "code",
   "execution_count": null,
   "metadata": {},
   "outputs": [],
   "source": [
    "model = pickle.load(open(\"model_doc2vec.pkl\", \"rb\"))"
   ]
  },
  {
   "cell_type": "code",
   "execution_count": 10,
   "metadata": {},
   "outputs": [],
   "source": [
    "n_clusters = 7"
   ]
  },
  {
   "cell_type": "code",
   "execution_count": 11,
   "metadata": {},
   "outputs": [],
   "source": [
    "km = KMeans(n_clusters=n_clusters, n_jobs=-1)\n",
    "X = km.fit(model.docvecs.vectors_docs)"
   ]
  },
  {
   "cell_type": "code",
   "execution_count": 13,
   "metadata": {},
   "outputs": [],
   "source": [
    "points = pd.DataFrame(TSNE(n_components=2).fit_transform(model.docvecs.vectors_docs))\n",
    "points['target'] = km.labels_"
   ]
  },
  {
   "cell_type": "code",
   "execution_count": 14,
   "metadata": {},
   "outputs": [
    {
     "data": {
      "image/png": "[encoded data removed]",
      "text/plain": [
       "<Figure size 576x576 with 1 Axes>"
      ]
     },
     "metadata": {
      "needs_background": "light"
     },
     "output_type": "display_data"
    }
   ],
   "source": [
    "fig = plt.figure(figsize = (8,8))\n",
    "ax = fig.add_subplot(1,1,1) \n",
    "ax.set_xlabel('Component 1', fontsize = 15)\n",
    "ax.set_ylabel('Component 2', fontsize = 15)\n",
    "\n",
    "targets = [0, 1, 2, 3, 4, 5, 6]\n",
    "colors = ['r', 'g', 'b', 'y', 'c', 'm', 'k']\n",
    "for target, color in zip(targets, colors):\n",
    "    indicesToKeep = points['target'] == target\n",
    "    ax.scatter(points.loc[indicesToKeep, 0]\n",
    "               , points.loc[indicesToKeep, 1]\n",
    "               , c = color\n",
    "               , s = 50)\n",
    "ax.legend(targets)\n",
    "ax.grid()"
   ]
  },
  {
   "cell_type": "markdown",
   "metadata": {},
   "source": [
    "# Stats on clusters"
   ]
  },
  {
   "cell_type": "code",
   "execution_count": 15,
   "metadata": {},
   "outputs": [
    {
     "data": {
      "text/html": [
       "<div>\n",
       "<style scoped>\n",
       "    .dataframe tbody tr th:only-of-type {\n",
       "        vertical-align: middle;\n",
       "    }\n",
       "\n",
       "    .dataframe tbody tr th {\n",
       "        vertical-align: top;\n",
       "    }\n",
       "\n",
       "    .dataframe thead th {\n",
       "        text-align: right;\n",
       "    }\n",
       "</style>\n",
       "<table border=\"1\" class=\"dataframe\">\n",
       "  <thead>\n",
       "    <tr style=\"text-align: right;\">\n",
       "      <th></th>\n",
       "      <th>0</th>\n",
       "      <th>1</th>\n",
       "      <th>target</th>\n",
       "      <th>text</th>\n",
       "    </tr>\n",
       "  </thead>\n",
       "  <tbody>\n",
       "    <tr>\n",
       "      <th>0</th>\n",
       "      <td>1.744997</td>\n",
       "      <td>22.036306</td>\n",
       "      <td>0</td>\n",
       "      <td>general assembly fortunate indeed president ye...</td>\n",
       "    </tr>\n",
       "    <tr>\n",
       "      <th>1</th>\n",
       "      <td>-3.464112</td>\n",
       "      <td>25.047724</td>\n",
       "      <td>4</td>\n",
       "      <td>give great pleasure mr president extend sincer...</td>\n",
       "    </tr>\n",
       "    <tr>\n",
       "      <th>2</th>\n",
       "      <td>-9.478374</td>\n",
       "      <td>29.502926</td>\n",
       "      <td>4</td>\n",
       "      <td>mr president behalf excellency mzee jomo kenya...</td>\n",
       "    </tr>\n",
       "    <tr>\n",
       "      <th>3</th>\n",
       "      <td>-35.473839</td>\n",
       "      <td>-37.585190</td>\n",
       "      <td>3</td>\n",
       "      <td>mr president pleasure speak time presiding mee...</td>\n",
       "    </tr>\n",
       "    <tr>\n",
       "      <th>4</th>\n",
       "      <td>3.142052</td>\n",
       "      <td>20.851042</td>\n",
       "      <td>2</td>\n",
       "      <td>may say delegation malaysia philippine delegat...</td>\n",
       "    </tr>\n",
       "    <tr>\n",
       "      <th>...</th>\n",
       "      <td>...</td>\n",
       "      <td>...</td>\n",
       "      <td>...</td>\n",
       "      <td>...</td>\n",
       "    </tr>\n",
       "    <tr>\n",
       "      <th>7502</th>\n",
       "      <td>-21.211956</td>\n",
       "      <td>29.276794</td>\n",
       "      <td>4</td>\n",
       "      <td>would first like congratulate mr president ele...</td>\n",
       "    </tr>\n",
       "    <tr>\n",
       "      <th>7503</th>\n",
       "      <td>-25.842800</td>\n",
       "      <td>-8.341520</td>\n",
       "      <td>3</td>\n",
       "      <td>distinct honour privilege participate proceedi...</td>\n",
       "    </tr>\n",
       "    <tr>\n",
       "      <th>7504</th>\n",
       "      <td>-28.103386</td>\n",
       "      <td>-70.240166</td>\n",
       "      <td>5</td>\n",
       "      <td>enormously happy behalf bolivian people expres...</td>\n",
       "    </tr>\n",
       "    <tr>\n",
       "      <th>7505</th>\n",
       "      <td>5.871884</td>\n",
       "      <td>7.106643</td>\n",
       "      <td>0</td>\n",
       "      <td>costa rica would like congratulate sir electio...</td>\n",
       "    </tr>\n",
       "    <tr>\n",
       "      <th>7506</th>\n",
       "      <td>-6.098144</td>\n",
       "      <td>11.650807</td>\n",
       "      <td>2</td>\n",
       "      <td>would like congratulate mr mogens lykketoft el...</td>\n",
       "    </tr>\n",
       "  </tbody>\n",
       "</table>\n",
       "<p>7507 rows × 4 columns</p>\n",
       "</div>"
      ],
      "text/plain": [
       "              0          1  target  \\\n",
       "0      1.744997  22.036306       0   \n",
       "1     -3.464112  25.047724       4   \n",
       "2     -9.478374  29.502926       4   \n",
       "3    -35.473839 -37.585190       3   \n",
       "4      3.142052  20.851042       2   \n",
       "...         ...        ...     ...   \n",
       "7502 -21.211956  29.276794       4   \n",
       "7503 -25.842800  -8.341520       3   \n",
       "7504 -28.103386 -70.240166       5   \n",
       "7505   5.871884   7.106643       0   \n",
       "7506  -6.098144  11.650807       2   \n",
       "\n",
       "                                                   text  \n",
       "0     general assembly fortunate indeed president ye...  \n",
       "1     give great pleasure mr president extend sincer...  \n",
       "2     mr president behalf excellency mzee jomo kenya...  \n",
       "3     mr president pleasure speak time presiding mee...  \n",
       "4     may say delegation malaysia philippine delegat...  \n",
       "...                                                 ...  \n",
       "7502  would first like congratulate mr president ele...  \n",
       "7503  distinct honour privilege participate proceedi...  \n",
       "7504  enormously happy behalf bolivian people expres...  \n",
       "7505  costa rica would like congratulate sir electio...  \n",
       "7506  would like congratulate mr mogens lykketoft el...  \n",
       "\n",
       "[7507 rows x 4 columns]"
      ]
     },
     "execution_count": 15,
     "metadata": {},
     "output_type": "execute_result"
    }
   ],
   "source": [
    "points['text'] = docs['text'].apply(lambda x: \" \".join(word for word in x))\n",
    "points"
   ]
  },
  {
   "cell_type": "code",
   "execution_count": 16,
   "metadata": {},
   "outputs": [],
   "source": [
    "from sklearn.feature_extraction.text import CountVectorizer, TfidfVectorizer"
   ]
  },
  {
   "cell_type": "markdown",
   "metadata": {},
   "source": [
    "## Most frequent words per topic using CountVectorizer"
   ]
  },
  {
   "cell_type": "code",
   "execution_count": 17,
   "metadata": {},
   "outputs": [],
   "source": [
    "n = 8"
   ]
  },
  {
   "cell_type": "code",
   "execution_count": 18,
   "metadata": {
    "scrolled": false
   },
   "outputs": [
    {
     "name": "stdout",
     "output_type": "stream",
     "text": [
      "0 : ['problem', 'european', 'nuclear', 'war', 'europe', 'conference', 'operation', 'session']\n",
      "1 : ['iraq', 'israeli', 'developing', 'lebanon', 'weapon', 'africa', 'aggression', 'nuclear']\n",
      "2 : ['problem', 'south', 'nuclear', 'developing country', 'island', 'small', 'change', 'conference']\n",
      "3 : ['south', 'crisis', 'war', 'relation', 'delegation', 'operation', 'force', 'power']\n",
      "4 : ['south', 'south africa', 'delegation', 'developing country', 'conference', 'power', 'region', 'independence']\n",
      "5 : ['american', 'solution', 'latin', 'human right', 'power', 'policy', 'war', 'developing']\n",
      "6 : ['nuclear', 'weapon', 'soviet', 'democratic', 'military', 'united state', 'operation', 'disarmament']\n"
     ]
    }
   ],
   "source": [
    "for target in targets:\n",
    "    indicesToKeep = points['target'] == target\n",
    "    cor = list(points.loc[indicesToKeep, \"text\"])\n",
    "    vec = CountVectorizer(max_df=0.8, ngram_range=(1,2)).fit(cor)\n",
    "    bag_of_words = vec.transform(cor)\n",
    "    sum_words = bag_of_words.sum(axis=0) \n",
    "    words_freq = [(word, sum_words[0, idx]) for word, idx in vec.vocabulary_.items()]\n",
    "    words_freq = sorted(words_freq, key = lambda x: x[1], reverse=True)\n",
    "    print(str(target) + \" : \" + str([x[0] for x in words_freq[:n]]))"
   ]
  },
  {
   "cell_type": "markdown",
   "metadata": {},
   "source": [
    "## Most frequent words per topic using tf-idf"
   ]
  },
  {
   "cell_type": "code",
   "execution_count": 19,
   "metadata": {},
   "outputs": [
    {
     "name": "stdout",
     "output_type": "stream",
     "text": [
      "0 : ['problem', 'european', 'nuclear', 'cooperation', 'operation', 'europe', 'weapon', 'conference']\n",
      "1 : ['iraq', 'lebanon', 'israeli', 'terrorism', 'developing', 'nuclear', 'aggression', 'weapon']\n",
      "2 : ['island', 'nuclear', 'south', 'problem', 'small', 'developing country', 'change', 'pacific']\n",
      "3 : ['south', 'co', 'guinea', 'delegation', 'crisis', 'operation', 'co operation', 'relation']\n",
      "4 : ['south', 'south africa', 'delegation', 'developing country', 'namibia', 'conference', 'nuclear', 'power']\n",
      "5 : ['co', 'american', 'human right', 'latin', 'democracy', 'central', 'solution', 'council']\n",
      "6 : ['nuclear', 'weapon', 'soviet', 'co', 'co operation', 'operation', 'cooperation', 'disarmament']\n"
     ]
    }
   ],
   "source": [
    "for target in targets:\n",
    "    indicesToKeep = points['target'] == target\n",
    "    cor = list(points.loc[indicesToKeep, \"text\"])\n",
    "    vec = TfidfVectorizer(max_df=0.8, ngram_range=(1,2)).fit(cor)\n",
    "    bag_of_words = vec.transform(cor)\n",
    "    sum_words = bag_of_words.sum(axis=0) \n",
    "    words_freq = [(word, sum_words[0, idx]) for word, idx in vec.vocabulary_.items()]\n",
    "    words_freq = sorted(words_freq, key = lambda x: x[1], reverse=True)\n",
    "    print(str(target) + \" : \" + str([x[0] for x in words_freq[:n]]))"
   ]
  },
  {
   "cell_type": "code",
   "execution_count": null,
   "metadata": {},
   "outputs": [],
   "source": []
  }
 ],
 "metadata": {
  "kernelspec": {
   "display_name": "DynamicTopicModeling",
   "language": "python",
   "name": "python3"
  },
  "language_info": {
   "codemirror_mode": {
    "name": "ipython",
    "version": 3
   },
   "file_extension": ".py",
   "mimetype": "text/x-python",
   "name": "python",
   "nbconvert_exporter": "python",
   "pygments_lexer": "ipython3",
   "version": "3.7.4"
  }
 },
 "nbformat": 4,
 "nbformat_minor": 2
}
