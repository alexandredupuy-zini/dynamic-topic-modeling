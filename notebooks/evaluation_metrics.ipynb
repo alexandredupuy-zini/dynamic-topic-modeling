{
 "cells": [
  {
   "cell_type": "code",
   "execution_count": 1,
   "metadata": {},
   "outputs": [
    {
     "name": "stdout",
     "output_type": "stream",
     "text": [
      "2020-03-26 15:32:09,606 - kedro.io.data_catalog - INFO - Loading data from `trained_model_lda` (GensimModel)...\n",
      "2020-03-26 15:32:09,608 - gensim.utils - INFO - loading LdaModel object from data/06_models/trained_model_lda.model\n",
      "2020-03-26 15:32:09,610 - gensim.utils - INFO - loading expElogbeta from data/06_models/trained_model_lda.model.expElogbeta.npy with mmap=None\n",
      "2020-03-26 15:32:09,612 - gensim.utils - INFO - setting ignored attribute dispatcher to None\n",
      "2020-03-26 15:32:09,613 - gensim.utils - INFO - setting ignored attribute id2word to None\n",
      "2020-03-26 15:32:09,613 - gensim.utils - INFO - setting ignored attribute state to None\n",
      "2020-03-26 15:32:09,614 - gensim.utils - INFO - loaded data/06_models/trained_model_lda.model\n",
      "2020-03-26 15:32:09,614 - gensim.utils - INFO - loading LdaState object from data/06_models/trained_model_lda.model.state\n",
      "2020-03-26 15:32:09,621 - gensim.utils - INFO - loaded data/06_models/trained_model_lda.model.state\n",
      "2020-03-26 15:32:09,630 - kedro.io.data_catalog - INFO - Loading data from `train_docs` (PickleLocalDataSet)...\n",
      "2020-03-26 15:32:10,795 - kedro.io.data_catalog - INFO - Loading data from `dictionary` (DictionaryDataSet)...\n",
      "2020-03-26 15:32:10,796 - gensim.utils - INFO - loading Dictionary object from data/05_model_input/dictionary.dict\n",
      "2020-03-26 15:32:10,804 - gensim.utils - INFO - loaded data/05_model_input/dictionary.dict\n",
      "2020-03-26 15:32:10,804 - kedro.io.data_catalog - INFO - Loading data from `train_corpus` (MmCorpusDataSet)...\n",
      "2020-03-26 15:32:10,831 - gensim.corpora.indexedcorpus - INFO - loaded corpus index from data/05_model_input/train_corpus.mm.index\n",
      "2020-03-26 15:32:10,831 - gensim.corpora._mmreader - INFO - initializing cython corpus reader from data/05_model_input/train_corpus.mm\n",
      "2020-03-26 15:32:10,832 - gensim.corpora._mmreader - INFO - accepted corpus with 161664 documents, 16689 features, 6646817 non-zero entries\n"
     ]
    }
   ],
   "source": [
    "model = catalog.load(\"trained_model_lda\")\n",
    "train_docs = catalog.load('train_docs')\n",
    "dictionary = catalog.load('dictionary')\n",
    "train_corpus = catalog.load('train_corpus')"
   ]
  },
  {
   "cell_type": "code",
   "execution_count": 2,
   "metadata": {},
   "outputs": [],
   "source": [
    "import numpy as np\n",
    "import matplotlib.pyplot as plt"
   ]
  },
  {
   "cell_type": "markdown",
   "metadata": {},
   "source": [
    "# Metrics"
   ]
  },
  {
   "cell_type": "code",
   "execution_count": 3,
   "metadata": {},
   "outputs": [],
   "source": [
    "#input:\n",
    "#...dictionary\n",
    "#...topic distribution matrix (K, V)\n",
    "#...doc-topic matrix (D, K)\n",
    "#...word-topic matrix\n",
    "\n",
    "#D documents\n",
    "#Nd words per document\n",
    "#K topics\n",
    "#V vocab size"
   ]
  },
  {
   "cell_type": "code",
   "execution_count": 4,
   "metadata": {},
   "outputs": [],
   "source": [
    "from gensim import matutils\n",
    "\n",
    "topic_distributions = model.get_topics()\n",
    "num_topics = len(topic_distributions)\n",
    "doc_topic = matutils.corpus2dense(model.get_document_topics(train_corpus[:1000]), num_topics).T"
   ]
  },
  {
   "cell_type": "markdown",
   "metadata": {},
   "source": [
    "## Qualitative metrics"
   ]
  },
  {
   "cell_type": "markdown",
   "metadata": {},
   "source": [
    "### Top n words"
   ]
  },
  {
   "cell_type": "code",
   "execution_count": 5,
   "metadata": {},
   "outputs": [
    {
     "data": {
      "image/png": "[encoded data removed]",
      "text/plain": [
       "<Figure size 720x288 with 1 Axes>"
      ]
     },
     "metadata": {
      "needs_background": "light"
     },
     "output_type": "display_data"
    }
   ],
   "source": [
    "def extract_top_n_words(topic_distributions, dictionary, topic_id, top_n):\n",
    "    top_n_words = [dictionary[np.argsort(topic_distributions[topic_id])[-i-1]] for i in range(top_n)]\n",
    "    top_n_freqs = [np.sort(topic_distributions[topic_id])[-i-1] for i in range(top_n)]\n",
    "    return top_n_words, top_n_freqs\n",
    "\n",
    "topic_id = 0\n",
    "top_n = 10\n",
    "top_n_words, top_n_freqs = extract_top_n_words(topic_distributions, dictionary, topic_id, top_n)\n",
    "\n",
    "plt.figure(figsize=(10, 4))\n",
    "plt.bar(top_n_words, top_n_freqs)\n",
    "plt.show()"
   ]
  },
  {
   "cell_type": "markdown",
   "metadata": {},
   "source": [
    "### Topic size"
   ]
  },
  {
   "cell_type": "code",
   "execution_count": null,
   "metadata": {},
   "outputs": [],
   "source": []
  },
  {
   "cell_type": "markdown",
   "metadata": {},
   "source": [
    "### Topic distances"
   ]
  },
  {
   "cell_type": "code",
   "execution_count": 12,
   "metadata": {},
   "outputs": [
    {
     "data": {
      "image/png": "[encoded data removed]",
      "text/plain": [
       "<Figure size 432x288 with 1 Axes>"
      ]
     },
     "metadata": {
      "needs_background": "light"
     },
     "output_type": "display_data"
    }
   ],
   "source": [
    "from scipy.spatial.distance import jensenshannon\n",
    "\n",
    "def calculate_topic_distances(topic_distributions):\n",
    "    num_topics = len(topic_distributions)\n",
    "    distances = np.zeros((num_topics, num_topics))\n",
    "    for i in range(num_topics):\n",
    "        for j in range(num_topics):\n",
    "            topic_i, topic_j = topic_distributions[i], topic_distributions[j]\n",
    "            distances[i][j] = jensenshannon(topic_i, topic_j)\n",
    "    return distances\n",
    "\n",
    "distances = calculate_topic_distances(topic_distributions)\n",
    "plt.imshow(distances, cmap='Greys')\n",
    "plt.show()"
   ]
  },
  {
   "cell_type": "code",
   "execution_count": 13,
   "metadata": {},
   "outputs": [
    {
     "data": {
      "image/png": "[encoded data removed]",
      "text/plain": [
       "<Figure size 432x288 with 1 Axes>"
      ]
     },
     "metadata": {
      "needs_background": "light"
     },
     "output_type": "display_data"
    }
   ],
   "source": [
    "from sklearn.manifold import MDS\n",
    "mds = MDS(n_components=2, max_iter=3000, eps=1e-9, dissimilarity=\"precomputed\", n_jobs=1)\n",
    "pos = mds.fit(distances).embedding_\n",
    "plt.scatter(pos[:, 0], pos[:, 1], s=100, lw=0)\n",
    "plt.show()"
   ]
  },
  {
   "cell_type": "markdown",
   "metadata": {},
   "source": [
    "### Most m representative documents"
   ]
  },
  {
   "cell_type": "code",
   "execution_count": 14,
   "metadata": {},
   "outputs": [
    {
     "data": {
      "text/plain": [
       "['twenty seven years elapsed since united nations founded aspiring permanent peace welfare mankind period united nations remarkable achievements various fields activities united nations fully lived expectations held time foundation one must admit respect general assessment always favorable especially case regard maintenance international peace security primary objective united nations',\n",
       " 'united nations called upon play leading role ensuring international peace security currently undertaking serious examination ability unify efforts member states organize efficient international cooperation confronting threats risks global dimension',\n",
       " 'believe collective united action national level global context enable us overcome challenges present cannot pass buck world must survive must improve']"
      ]
     },
     "execution_count": 14,
     "metadata": {},
     "output_type": "execute_result"
    }
   ],
   "source": [
    "def show_most_m_represantative_docs(doc_topic, m, docs, topic_id):\n",
    "    indices_max = np.argsort(doc_topic[:,topic_id])[-m:]\n",
    "    verbatims = []\n",
    "    for idx in reversed(indices_max):\n",
    "        doc = docs[idx]\n",
    "        verbatims.append(' '.join(list(doc)))\n",
    "    return verbatims\n",
    "\n",
    "topic_id = 0\n",
    "m = 3\n",
    "show_most_m_represantative_docs(doc_topic, m, train_docs, topic_id)"
   ]
  },
  {
   "cell_type": "markdown",
   "metadata": {},
   "source": [
    "## Quantitative metrics"
   ]
  },
  {
   "cell_type": "markdown",
   "metadata": {},
   "source": [
    "### Topic coherence"
   ]
  },
  {
   "cell_type": "code",
   "execution_count": 15,
   "metadata": {},
   "outputs": [
    {
     "data": {
      "text/plain": [
       "0.29701980989612237"
      ]
     },
     "execution_count": 15,
     "metadata": {},
     "output_type": "execute_result"
    }
   ],
   "source": [
    "def occ_dict(doc):\n",
    "    occurences_dict = {}\n",
    "    for word in doc:\n",
    "        if word in occurences_dict:\n",
    "            occurences_dict[word] += 1\n",
    "        else:\n",
    "            occurences_dict[word] = 1\n",
    "    return occurences_dict\n",
    "\n",
    "def get_Dwi(wi, doc_dicts):\n",
    "    Dwi = 0\n",
    "    for doc_dict in doc_dicts:\n",
    "        if wi in doc_dict:\n",
    "            Dwi += doc_dict[wi]\n",
    "    return Dwi\n",
    "\n",
    "def get_Dwiwj(wi, wj, doc_dicts):    \n",
    "    Dwiwj = 0\n",
    "    for doc_dict in doc_dicts:\n",
    "        if wi in doc_dict and wj in doc_dict:\n",
    "            Dwiwj += doc_dict[wi] * doc_dict[wj]\n",
    "    return Dwiwj\n",
    "\n",
    "def topic_coherence(topic_distributions, topic_id, top_n, docs, method='umass', eps=1e-5):\n",
    "    top_words, _ = extract_top_n_words(topic_distributions, dictionary, topic_id, top_n)\n",
    "    \n",
    "    N = top_n - 1\n",
    "    \n",
    "    D = 0\n",
    "    for doc in docs:\n",
    "        D += len(doc)\n",
    "    #D = len(docs)\n",
    "        \n",
    "    # remplacer par un CountVectorizer\n",
    "    doc_dicts = [occ_dict(doc) for doc in docs]\n",
    "    \n",
    "    score = 0.\n",
    "    for i in range(1, N):\n",
    "        for j in range(i):\n",
    "            wi = top_words[i]\n",
    "            wj = top_words[j]\n",
    "            \n",
    "            Dwj = get_Dwi(wj, doc_dicts)\n",
    "            Dwiwj = get_Dwiwj(wi, wj, doc_dicts)\n",
    "            \n",
    "            pwj = Dwj / D\n",
    "            pwiwj = Dwiwj / D\n",
    "            \n",
    "            # umass\n",
    "            if method == 'umass':\n",
    "                score += np.log((pwiwj + eps) / pwj)\n",
    "            \n",
    "            # pmi\n",
    "            elif method == 'pmi':\n",
    "                Dwi = get_Dwi(wi, doc_dicts)\n",
    "                pwi = Dwi / D\n",
    "                score += np.log((pwiwj + eps) / (pwi * pwj))\n",
    "            \n",
    "            # npmi\n",
    "            elif method == 'npmi':\n",
    "                Dwi = get_Dwi(wi, doc_dicts)\n",
    "                pwi = Dwi / D\n",
    "                \n",
    "                if Dwiwj == 0:\n",
    "                    score += -1.\n",
    "                elif Dwiwj == Dwi and Dwiwj == Dwj:\n",
    "                    score += 1.\n",
    "                else:\n",
    "                    score += np.log((pwiwj + eps) / (pwi * pwj)) / (- np.log(pwiwj + eps))\n",
    "            \n",
    "    return score / (2 * N * (N - 1))\n",
    "\n",
    "\n",
    "topic_id = 0\n",
    "top_n = 10\n",
    "\n",
    "topic_coherence(topic_distributions, topic_id, top_n, train_docs, method='npmi')"
   ]
  },
  {
   "cell_type": "markdown",
   "metadata": {},
   "source": [
    "### Topic diversity"
   ]
  },
  {
   "cell_type": "code",
   "execution_count": 16,
   "metadata": {},
   "outputs": [
    {
     "data": {
      "text/plain": [
       "0.748"
      ]
     },
     "execution_count": 16,
     "metadata": {},
     "output_type": "execute_result"
    }
   ],
   "source": [
    "def topic_diversity(topic_distributions, top_n):\n",
    "    top_words = []\n",
    "    num_topics = len(topic_distributions)\n",
    "    for k in range(num_topics):\n",
    "        tmp, _ = extract_top_n_words(topic_distributions, dictionary, k, top_n)\n",
    "        top_words += tmp\n",
    "    return len(np.unique(top_words)) / len(top_words)\n",
    "\n",
    "top_n = 25\n",
    "topic_diversity(topic_distributions, top_n)"
   ]
  },
  {
   "cell_type": "markdown",
   "metadata": {},
   "source": [
    "### Predictive quality"
   ]
  },
  {
   "cell_type": "code",
   "execution_count": null,
   "metadata": {},
   "outputs": [],
   "source": []
  }
 ],
 "metadata": {
  "kernelspec": {
   "display_name": "DynamicTopicModeling",
   "language": "python",
   "name": "python3"
  },
  "language_info": {
   "codemirror_mode": {
    "name": "ipython",
    "version": 3
   },
   "file_extension": ".py",
   "mimetype": "text/x-python",
   "name": "python",
   "nbconvert_exporter": "python",
   "pygments_lexer": "ipython3",
   "version": "3.6.9"
  }
 },
 "nbformat": 4,
 "nbformat_minor": 2
}
